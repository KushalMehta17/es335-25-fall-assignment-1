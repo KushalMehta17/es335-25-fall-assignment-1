{
  "nbformat": 4,
  "nbformat_minor": 0,
  "metadata": {
    "colab": {
      "provenance": []
    },
    "kernelspec": {
      "name": "python3",
      "display_name": "Python 3"
    },
    "language_info": {
      "name": "python"
    }
  },
  "cells": [
    {
      "cell_type": "markdown",
      "source": [
        "# Task 2\n",
        "## Question 1"
      ],
      "metadata": {
        "id": "5SnL9yDTEi6Z"
      }
    },
    {
      "cell_type": "markdown",
      "source": [
        "Importing all the dependencies:"
      ],
      "metadata": {
        "id": "5EOuHYEMIS0c"
      }
    },
    {
      "cell_type": "code",
      "source": [
        "import os\n",
        "import pandas as pd\n",
        "import numpy as np\n",
        "from sklearn.model_selection import train_test_split\n",
        "from sklearn.tree import DecisionTreeClassifier\n",
        "from sklearn.metrics import accuracy_score, precision_score, recall_score, confusion_matrix, f1_score\n",
        "import tsfel\n",
        "import matplotlib.pyplot as plt\n",
        "import seaborn as sns"
      ],
      "metadata": {
        "id": "X-SJuLaJGNk3"
      },
      "execution_count": 4,
      "outputs": []
    },
    {
      "cell_type": "markdown",
      "source": [
        "Extracting the Train and Test Dataset from the Combined Folder:"
      ],
      "metadata": {
        "id": "-ww3frgzjQrC"
      }
    },
    {
      "cell_type": "code",
      "source": [
        "time = 10 # Setting the time window for each sample\n",
        "offset = 1000 # Skipping the first 1000 rows to remove noise\n",
        "\n",
        "folders = [\"LAYING\",\"SITTING\",\"STANDING\",\"WALKING\",\"WALKING_DOWNSTAIRS\",\"WALKING_UPSTAIRS\"]\n",
        "classes = {\"WALKING\":1,\"WALKING_UPSTAIRS\":2,\"WALKING_DOWNSTAIRS\":3,\"SITTING\":4,\"STANDING\":5,\"LAYING\":6}\n",
        "\n",
        "combined_dir = \"Combined\"\n",
        "\n",
        "X_train=[]\n",
        "y_train=[]\n",
        "dataset_dir = os.path.join(combined_dir,\"Train\")\n",
        "\n",
        "for folder in folders:\n",
        "    files = os.listdir(os.path.join(dataset_dir,folder))\n",
        "\n",
        "    for file in files:\n",
        "\n",
        "        df = pd.read_csv(os.path.join(dataset_dir,folder,file),sep=\",\",header=0)\n",
        "        df = df[offset:offset+time*50]\n",
        "        X_train.append(df.values)\n",
        "        y_train.append(classes[folder])\n",
        "\n",
        "X_train = np.array(X_train)\n",
        "y_train = np.array(y_train)\n",
        "\n",
        "X_test=[]\n",
        "y_test=[]\n",
        "dataset_dir = os.path.join(combined_dir,\"Test\")\n",
        "\n",
        "for folder in folders:\n",
        "    files = os.listdir(os.path.join(dataset_dir,folder))\n",
        "    for file in files:\n",
        "\n",
        "        df = pd.read_csv(os.path.join(dataset_dir,folder,file),sep=\",\",header=0)\n",
        "        df = df[offset:offset+time*50]\n",
        "        X_test.append(df.values)\n",
        "        y_test.append(classes[folder])\n",
        "\n",
        "X_test = np.array(X_test)\n",
        "y_test = np.array(y_test)\n",
        "\n",
        "# concatenating the training and testing data\n",
        "X = np.concatenate((X_train,X_test))\n",
        "y = np.concatenate((y_train,y_test))\n",
        "\n",
        "# splitting the data into training and testing sets.\n",
        "seed = 4\n",
        "X_train,X_test,y_train,y_test = train_test_split(X,y,test_size=0.3,random_state=seed,stratify=y)\n",
        "\n",
        "print(\"Training data shape: \", X_train.shape) # (number of samples, number of time steps, number of features)\n",
        "print(\"Testing data shape: \", X_test.shape)\n",
        "print(\"Training labels shape: \", y_train.shape)\n",
        "print(\"Testing labels shape: \", y_test.shape)"
      ],
      "metadata": {
        "colab": {
          "base_uri": "https://localhost:8080/"
        },
        "id": "stic7cHFNUwV",
        "outputId": "af606c8d-a8be-4b81-ef87-12b578c1519d"
      },
      "execution_count": 5,
      "outputs": [
        {
          "output_type": "stream",
          "name": "stdout",
          "text": [
            "Training data shape:  (126, 500, 3)\n",
            "Testing data shape:  (54, 500, 3)\n",
            "Training labels shape:  (126,)\n",
            "Testing labels shape:  (54,)\n"
          ]
        }
      ]
    },
    {
      "cell_type": "code",
      "source": [
        "# taking the square root of the sum of squares of the x, y, z values for each time step to get the magnitude of the acceleration\n",
        "# this makes the size of the train data as 126, 500 and similarly for the test data\n",
        "\n",
        "X_train_reshaped = np.sum(X_train**2, axis=2)\n",
        "X_test_reshaped = np.sum(X_test**2, axis=2)\n",
        "\n",
        "print(\"Training data shape: \", X_train_reshaped.shape)\n",
        "print(\"Testing data shape: \", X_test_reshaped.shape)"
      ],
      "metadata": {
        "id": "_5_m8XZwOUTg",
        "colab": {
          "base_uri": "https://localhost:8080/"
        },
        "outputId": "21a6ada5-95c3-4fa3-ad6e-d90cd35ce691"
      },
      "execution_count": 6,
      "outputs": [
        {
          "output_type": "stream",
          "name": "stdout",
          "text": [
            "Training data shape:  (126, 500)\n",
            "Testing data shape:  (54, 500)\n"
          ]
        }
      ]
    },
    {
      "cell_type": "markdown",
      "source": [
        "## Question 1.1\n",
        "\n",
        "Training decision tree classifier on raw data\n"
      ],
      "metadata": {
        "id": "H-mw4FpXjbwe"
      }
    },
    {
      "cell_type": "code",
      "source": [
        "dtc_dataset = DecisionTreeClassifier()\n",
        "dtc_dataset.fit(X_train_reshaped, y_train)\n",
        "y_pred_dataset = dtc_dataset.predict(X_test_reshaped)\n",
        "\n",
        "acc_dataset = accuracy_score(y_test, y_pred_dataset)\n",
        "prec_dataset = precision_score(y_test, y_pred_dataset, average='macro')\n",
        "rec_dataset = recall_score(y_test, y_pred_dataset, average='macro')\n",
        "conf_mx_dataset = confusion_matrix(y_test, y_pred_dataset)\n",
        "\n",
        "print()\n",
        "print(\"Confusion Matrix:\")\n",
        "print(conf_mx_dataset)\n",
        "print()\n",
        "print(\"Provided Dataset Accuracy:\", acc_dataset)\n",
        "print(\"Provided Dataset Precision:\", prec_dataset)\n",
        "print(\"Provided Dataset Recall:\", rec_dataset)"
      ],
      "metadata": {
        "id": "T4ReH9osOztv",
        "colab": {
          "base_uri": "https://localhost:8080/"
        },
        "outputId": "e26043eb-6e9c-429e-8040-88d4ec2621eb"
      },
      "execution_count": 7,
      "outputs": [
        {
          "output_type": "stream",
          "name": "stdout",
          "text": [
            "\n",
            "Confusion Matrix:\n",
            "[[6 1 2 0 0 0]\n",
            " [0 5 2 1 0 1]\n",
            " [2 4 2 1 0 0]\n",
            " [0 0 0 4 2 3]\n",
            " [0 0 0 2 7 0]\n",
            " [0 0 0 1 0 8]]\n",
            "\n",
            "Provided Dataset Accuracy: 0.5925925925925926\n",
            "Provided Dataset Precision: 0.5787037037037036\n",
            "Provided Dataset Recall: 0.5925925925925927\n"
          ]
        }
      ]
    },
    {
      "cell_type": "markdown",
      "source": [
        "## Question 1.2\n",
        "\n",
        "Training decision tree model using the features obtained by TSFEL - Time Series Feature Extraction Library"
      ],
      "metadata": {
        "id": "rqUE1gjXa44x"
      }
    },
    {
      "cell_type": "code",
      "source": [
        "!pip install tsfel"
      ],
      "metadata": {
        "colab": {
          "base_uri": "https://localhost:8080/"
        },
        "collapsed": true,
        "id": "6Y3uL7WAGQYc",
        "outputId": "0d271121-7094-495b-eabe-d7eb815e1828"
      },
      "execution_count": null,
      "outputs": [
        {
          "output_type": "stream",
          "name": "stdout",
          "text": [
            "Collecting tsfel\n",
            "  Downloading tsfel-0.2.0-py3-none-any.whl.metadata (9.4 kB)\n",
            "Requirement already satisfied: ipython>=7.4.0 in /usr/local/lib/python3.12/dist-packages (from tsfel) (7.34.0)\n",
            "Requirement already satisfied: numpy>=1.18.5 in /usr/local/lib/python3.12/dist-packages (from tsfel) (2.0.2)\n",
            "Requirement already satisfied: pandas>=1.5.3 in /usr/local/lib/python3.12/dist-packages (from tsfel) (2.2.2)\n",
            "Requirement already satisfied: PyWavelets>=1.4.1 in /usr/local/lib/python3.12/dist-packages (from tsfel) (1.9.0)\n",
            "Requirement already satisfied: requests>=2.31.0 in /usr/local/lib/python3.12/dist-packages (from tsfel) (2.32.4)\n",
            "Requirement already satisfied: scikit-learn>=0.21.3 in /usr/local/lib/python3.12/dist-packages (from tsfel) (1.6.1)\n",
            "Requirement already satisfied: scipy>=1.7.3 in /usr/local/lib/python3.12/dist-packages (from tsfel) (1.16.1)\n",
            "Requirement already satisfied: setuptools>=47.1.1 in /usr/local/lib/python3.12/dist-packages (from tsfel) (75.2.0)\n",
            "Requirement already satisfied: statsmodels>=0.12.0 in /usr/local/lib/python3.12/dist-packages (from tsfel) (0.14.5)\n",
            "Collecting jedi>=0.16 (from ipython>=7.4.0->tsfel)\n",
            "  Downloading jedi-0.19.2-py2.py3-none-any.whl.metadata (22 kB)\n",
            "Requirement already satisfied: decorator in /usr/local/lib/python3.12/dist-packages (from ipython>=7.4.0->tsfel) (4.4.2)\n",
            "Requirement already satisfied: pickleshare in /usr/local/lib/python3.12/dist-packages (from ipython>=7.4.0->tsfel) (0.7.5)\n",
            "Requirement already satisfied: traitlets>=4.2 in /usr/local/lib/python3.12/dist-packages (from ipython>=7.4.0->tsfel) (5.7.1)\n",
            "Requirement already satisfied: prompt-toolkit!=3.0.0,!=3.0.1,<3.1.0,>=2.0.0 in /usr/local/lib/python3.12/dist-packages (from ipython>=7.4.0->tsfel) (3.0.51)\n",
            "Requirement already satisfied: pygments in /usr/local/lib/python3.12/dist-packages (from ipython>=7.4.0->tsfel) (2.19.2)\n",
            "Requirement already satisfied: backcall in /usr/local/lib/python3.12/dist-packages (from ipython>=7.4.0->tsfel) (0.2.0)\n",
            "Requirement already satisfied: matplotlib-inline in /usr/local/lib/python3.12/dist-packages (from ipython>=7.4.0->tsfel) (0.1.7)\n",
            "Requirement already satisfied: pexpect>4.3 in /usr/local/lib/python3.12/dist-packages (from ipython>=7.4.0->tsfel) (4.9.0)\n",
            "Requirement already satisfied: python-dateutil>=2.8.2 in /usr/local/lib/python3.12/dist-packages (from pandas>=1.5.3->tsfel) (2.9.0.post0)\n",
            "Requirement already satisfied: pytz>=2020.1 in /usr/local/lib/python3.12/dist-packages (from pandas>=1.5.3->tsfel) (2025.2)\n",
            "Requirement already satisfied: tzdata>=2022.7 in /usr/local/lib/python3.12/dist-packages (from pandas>=1.5.3->tsfel) (2025.2)\n",
            "Requirement already satisfied: charset_normalizer<4,>=2 in /usr/local/lib/python3.12/dist-packages (from requests>=2.31.0->tsfel) (3.4.3)\n",
            "Requirement already satisfied: idna<4,>=2.5 in /usr/local/lib/python3.12/dist-packages (from requests>=2.31.0->tsfel) (3.10)\n",
            "Requirement already satisfied: urllib3<3,>=1.21.1 in /usr/local/lib/python3.12/dist-packages (from requests>=2.31.0->tsfel) (2.5.0)\n",
            "Requirement already satisfied: certifi>=2017.4.17 in /usr/local/lib/python3.12/dist-packages (from requests>=2.31.0->tsfel) (2025.8.3)\n",
            "Requirement already satisfied: joblib>=1.2.0 in /usr/local/lib/python3.12/dist-packages (from scikit-learn>=0.21.3->tsfel) (1.5.1)\n",
            "Requirement already satisfied: threadpoolctl>=3.1.0 in /usr/local/lib/python3.12/dist-packages (from scikit-learn>=0.21.3->tsfel) (3.6.0)\n",
            "Requirement already satisfied: patsy>=0.5.6 in /usr/local/lib/python3.12/dist-packages (from statsmodels>=0.12.0->tsfel) (1.0.1)\n",
            "Requirement already satisfied: packaging>=21.3 in /usr/local/lib/python3.12/dist-packages (from statsmodels>=0.12.0->tsfel) (25.0)\n",
            "Requirement already satisfied: parso<0.9.0,>=0.8.4 in /usr/local/lib/python3.12/dist-packages (from jedi>=0.16->ipython>=7.4.0->tsfel) (0.8.5)\n",
            "Requirement already satisfied: ptyprocess>=0.5 in /usr/local/lib/python3.12/dist-packages (from pexpect>4.3->ipython>=7.4.0->tsfel) (0.7.0)\n",
            "Requirement already satisfied: wcwidth in /usr/local/lib/python3.12/dist-packages (from prompt-toolkit!=3.0.0,!=3.0.1,<3.1.0,>=2.0.0->ipython>=7.4.0->tsfel) (0.2.13)\n",
            "Requirement already satisfied: six>=1.5 in /usr/local/lib/python3.12/dist-packages (from python-dateutil>=2.8.2->pandas>=1.5.3->tsfel) (1.17.0)\n",
            "Downloading tsfel-0.2.0-py3-none-any.whl (63 kB)\n",
            "\u001b[2K   \u001b[90m━━━━━━━━━━━━━━━━━━━━━━━━━━━━━━━━━━━━━━━━\u001b[0m \u001b[32m63.4/63.4 kB\u001b[0m \u001b[31m2.2 MB/s\u001b[0m eta \u001b[36m0:00:00\u001b[0m\n",
            "\u001b[?25hDownloading jedi-0.19.2-py2.py3-none-any.whl (1.6 MB)\n",
            "\u001b[2K   \u001b[90m━━━━━━━━━━━━━━━━━━━━━━━━━━━━━━━━━━━━━━━━\u001b[0m \u001b[32m1.6/1.6 MB\u001b[0m \u001b[31m25.6 MB/s\u001b[0m eta \u001b[36m0:00:00\u001b[0m\n",
            "\u001b[?25hInstalling collected packages: jedi, tsfel\n",
            "Successfully installed jedi-0.19.2 tsfel-0.2.0\n"
          ]
        }
      ]
    },
    {
      "cell_type": "code",
      "source": [
        "X_train_dfs = []\n",
        "\n",
        "for sample in X_train:\n",
        "  df = pd.DataFrame(sample, columns=[\"accx\", \"accy\", \"accz\"])\n",
        "  reshaped_df = pd.DataFrame(np.sum(sample**2, axis=1), columns=[\"magnitude\"])\n",
        "  X_train_dfs.append(reshaped_df)\n",
        "\n",
        "X_test_dfs = []\n",
        "\n",
        "for sample in X_test:\n",
        "  df = pd.DataFrame(sample, columns=[\"accx\", \"accy\", \"accz\"])\n",
        "  reshaped_df = pd.DataFrame(np.sum(sample**2, axis=1), columns=[\"magnitude\"])\n",
        "  X_test_dfs.append(reshaped_df)\n",
        "\n",
        "# we will be using the default tsfel configuration for the features\n",
        "tsfel_config = tsfel.get_features_by_domain()\n",
        "\n",
        "X_train_tsfel_dfs = []\n",
        "for df in X_train_dfs:\n",
        "    # since our accelerometer data is sampled at 50Hz, we need to tell TSFEL that the sampling frequency is 50Hz\n",
        "    feature_df = tsfel.time_series_features_extractor(tsfel_config, df, fs=50)\n",
        "    X_train_tsfel_dfs.append(feature_df)"
      ],
      "metadata": {
        "id": "58h9lHEAO5DW",
        "colab": {
          "base_uri": "https://localhost:8080/",
          "height": 1000
        },
        "collapsed": true,
        "outputId": "bbacde1a-1708-4850-8872-044f4c202d74"
      },
      "execution_count": 8,
      "outputs": [
        {
          "output_type": "display_data",
          "data": {
            "text/plain": [
              "<IPython.core.display.HTML object>"
            ],
            "text/html": [
              "\n",
              "              <p>\n",
              "                  Progress: 100% Complete\n",
              "              <p/>\n",
              "              <progress\n",
              "                  value='67'\n",
              "                  max='67',\n",
              "                  style='width: 25%',\n",
              "              >\n",
              "                  67\n",
              "              </progress>\n",
              "\n",
              "    "
            ]
          },
          "metadata": {}
        },
        {
          "output_type": "display_data",
          "data": {
            "text/plain": [
              "<IPython.core.display.HTML object>"
            ],
            "text/html": [
              "\n",
              "              <p>\n",
              "                  Progress: 100% Complete\n",
              "              <p/>\n",
              "              <progress\n",
              "                  value='67'\n",
              "                  max='67',\n",
              "                  style='width: 25%',\n",
              "              >\n",
              "                  67\n",
              "              </progress>\n",
              "\n",
              "    "
            ]
          },
          "metadata": {}
        },
        {
          "output_type": "display_data",
          "data": {
            "text/plain": [
              "<IPython.core.display.HTML object>"
            ],
            "text/html": [
              "\n",
              "              <p>\n",
              "                  Progress: 100% Complete\n",
              "              <p/>\n",
              "              <progress\n",
              "                  value='67'\n",
              "                  max='67',\n",
              "                  style='width: 25%',\n",
              "              >\n",
              "                  67\n",
              "              </progress>\n",
              "\n",
              "    "
            ]
          },
          "metadata": {}
        },
        {
          "output_type": "display_data",
          "data": {
            "text/plain": [
              "<IPython.core.display.HTML object>"
            ],
            "text/html": [
              "\n",
              "              <p>\n",
              "                  Progress: 100% Complete\n",
              "              <p/>\n",
              "              <progress\n",
              "                  value='67'\n",
              "                  max='67',\n",
              "                  style='width: 25%',\n",
              "              >\n",
              "                  67\n",
              "              </progress>\n",
              "\n",
              "    "
            ]
          },
          "metadata": {}
        },
        {
          "output_type": "display_data",
          "data": {
            "text/plain": [
              "<IPython.core.display.HTML object>"
            ],
            "text/html": [
              "\n",
              "              <p>\n",
              "                  Progress: 100% Complete\n",
              "              <p/>\n",
              "              <progress\n",
              "                  value='67'\n",
              "                  max='67',\n",
              "                  style='width: 25%',\n",
              "              >\n",
              "                  67\n",
              "              </progress>\n",
              "\n",
              "    "
            ]
          },
          "metadata": {}
        },
        {
          "output_type": "display_data",
          "data": {
            "text/plain": [
              "<IPython.core.display.HTML object>"
            ],
            "text/html": [
              "\n",
              "              <p>\n",
              "                  Progress: 100% Complete\n",
              "              <p/>\n",
              "              <progress\n",
              "                  value='67'\n",
              "                  max='67',\n",
              "                  style='width: 25%',\n",
              "              >\n",
              "                  67\n",
              "              </progress>\n",
              "\n",
              "    "
            ]
          },
          "metadata": {}
        },
        {
          "output_type": "display_data",
          "data": {
            "text/plain": [
              "<IPython.core.display.HTML object>"
            ],
            "text/html": [
              "\n",
              "              <p>\n",
              "                  Progress: 100% Complete\n",
              "              <p/>\n",
              "              <progress\n",
              "                  value='67'\n",
              "                  max='67',\n",
              "                  style='width: 25%',\n",
              "              >\n",
              "                  67\n",
              "              </progress>\n",
              "\n",
              "    "
            ]
          },
          "metadata": {}
        },
        {
          "output_type": "display_data",
          "data": {
            "text/plain": [
              "<IPython.core.display.HTML object>"
            ],
            "text/html": [
              "\n",
              "              <p>\n",
              "                  Progress: 100% Complete\n",
              "              <p/>\n",
              "              <progress\n",
              "                  value='67'\n",
              "                  max='67',\n",
              "                  style='width: 25%',\n",
              "              >\n",
              "                  67\n",
              "              </progress>\n",
              "\n",
              "    "
            ]
          },
          "metadata": {}
        },
        {
          "output_type": "display_data",
          "data": {
            "text/plain": [
              "<IPython.core.display.HTML object>"
            ],
            "text/html": [
              "\n",
              "              <p>\n",
              "                  Progress: 100% Complete\n",
              "              <p/>\n",
              "              <progress\n",
              "                  value='67'\n",
              "                  max='67',\n",
              "                  style='width: 25%',\n",
              "              >\n",
              "                  67\n",
              "              </progress>\n",
              "\n",
              "    "
            ]
          },
          "metadata": {}
        },
        {
          "output_type": "display_data",
          "data": {
            "text/plain": [
              "<IPython.core.display.HTML object>"
            ],
            "text/html": [
              "\n",
              "              <p>\n",
              "                  Progress: 100% Complete\n",
              "              <p/>\n",
              "              <progress\n",
              "                  value='67'\n",
              "                  max='67',\n",
              "                  style='width: 25%',\n",
              "              >\n",
              "                  67\n",
              "              </progress>\n",
              "\n",
              "    "
            ]
          },
          "metadata": {}
        },
        {
          "output_type": "display_data",
          "data": {
            "text/plain": [
              "<IPython.core.display.HTML object>"
            ],
            "text/html": [
              "\n",
              "              <p>\n",
              "                  Progress: 100% Complete\n",
              "              <p/>\n",
              "              <progress\n",
              "                  value='67'\n",
              "                  max='67',\n",
              "                  style='width: 25%',\n",
              "              >\n",
              "                  67\n",
              "              </progress>\n",
              "\n",
              "    "
            ]
          },
          "metadata": {}
        },
        {
          "output_type": "display_data",
          "data": {
            "text/plain": [
              "<IPython.core.display.HTML object>"
            ],
            "text/html": [
              "\n",
              "              <p>\n",
              "                  Progress: 100% Complete\n",
              "              <p/>\n",
              "              <progress\n",
              "                  value='67'\n",
              "                  max='67',\n",
              "                  style='width: 25%',\n",
              "              >\n",
              "                  67\n",
              "              </progress>\n",
              "\n",
              "    "
            ]
          },
          "metadata": {}
        },
        {
          "output_type": "display_data",
          "data": {
            "text/plain": [
              "<IPython.core.display.HTML object>"
            ],
            "text/html": [
              "\n",
              "              <p>\n",
              "                  Progress: 100% Complete\n",
              "              <p/>\n",
              "              <progress\n",
              "                  value='67'\n",
              "                  max='67',\n",
              "                  style='width: 25%',\n",
              "              >\n",
              "                  67\n",
              "              </progress>\n",
              "\n",
              "    "
            ]
          },
          "metadata": {}
        },
        {
          "output_type": "display_data",
          "data": {
            "text/plain": [
              "<IPython.core.display.HTML object>"
            ],
            "text/html": [
              "\n",
              "              <p>\n",
              "                  Progress: 100% Complete\n",
              "              <p/>\n",
              "              <progress\n",
              "                  value='67'\n",
              "                  max='67',\n",
              "                  style='width: 25%',\n",
              "              >\n",
              "                  67\n",
              "              </progress>\n",
              "\n",
              "    "
            ]
          },
          "metadata": {}
        },
        {
          "output_type": "display_data",
          "data": {
            "text/plain": [
              "<IPython.core.display.HTML object>"
            ],
            "text/html": [
              "\n",
              "              <p>\n",
              "                  Progress: 100% Complete\n",
              "              <p/>\n",
              "              <progress\n",
              "                  value='67'\n",
              "                  max='67',\n",
              "                  style='width: 25%',\n",
              "              >\n",
              "                  67\n",
              "              </progress>\n",
              "\n",
              "    "
            ]
          },
          "metadata": {}
        },
        {
          "output_type": "display_data",
          "data": {
            "text/plain": [
              "<IPython.core.display.HTML object>"
            ],
            "text/html": [
              "\n",
              "              <p>\n",
              "                  Progress: 100% Complete\n",
              "              <p/>\n",
              "              <progress\n",
              "                  value='67'\n",
              "                  max='67',\n",
              "                  style='width: 25%',\n",
              "              >\n",
              "                  67\n",
              "              </progress>\n",
              "\n",
              "    "
            ]
          },
          "metadata": {}
        },
        {
          "output_type": "display_data",
          "data": {
            "text/plain": [
              "<IPython.core.display.HTML object>"
            ],
            "text/html": [
              "\n",
              "              <p>\n",
              "                  Progress: 100% Complete\n",
              "              <p/>\n",
              "              <progress\n",
              "                  value='67'\n",
              "                  max='67',\n",
              "                  style='width: 25%',\n",
              "              >\n",
              "                  67\n",
              "              </progress>\n",
              "\n",
              "    "
            ]
          },
          "metadata": {}
        },
        {
          "output_type": "display_data",
          "data": {
            "text/plain": [
              "<IPython.core.display.HTML object>"
            ],
            "text/html": [
              "\n",
              "              <p>\n",
              "                  Progress: 100% Complete\n",
              "              <p/>\n",
              "              <progress\n",
              "                  value='67'\n",
              "                  max='67',\n",
              "                  style='width: 25%',\n",
              "              >\n",
              "                  67\n",
              "              </progress>\n",
              "\n",
              "    "
            ]
          },
          "metadata": {}
        },
        {
          "output_type": "display_data",
          "data": {
            "text/plain": [
              "<IPython.core.display.HTML object>"
            ],
            "text/html": [
              "\n",
              "              <p>\n",
              "                  Progress: 100% Complete\n",
              "              <p/>\n",
              "              <progress\n",
              "                  value='67'\n",
              "                  max='67',\n",
              "                  style='width: 25%',\n",
              "              >\n",
              "                  67\n",
              "              </progress>\n",
              "\n",
              "    "
            ]
          },
          "metadata": {}
        },
        {
          "output_type": "display_data",
          "data": {
            "text/plain": [
              "<IPython.core.display.HTML object>"
            ],
            "text/html": [
              "\n",
              "              <p>\n",
              "                  Progress: 100% Complete\n",
              "              <p/>\n",
              "              <progress\n",
              "                  value='67'\n",
              "                  max='67',\n",
              "                  style='width: 25%',\n",
              "              >\n",
              "                  67\n",
              "              </progress>\n",
              "\n",
              "    "
            ]
          },
          "metadata": {}
        },
        {
          "output_type": "display_data",
          "data": {
            "text/plain": [
              "<IPython.core.display.HTML object>"
            ],
            "text/html": [
              "\n",
              "              <p>\n",
              "                  Progress: 100% Complete\n",
              "              <p/>\n",
              "              <progress\n",
              "                  value='67'\n",
              "                  max='67',\n",
              "                  style='width: 25%',\n",
              "              >\n",
              "                  67\n",
              "              </progress>\n",
              "\n",
              "    "
            ]
          },
          "metadata": {}
        },
        {
          "output_type": "display_data",
          "data": {
            "text/plain": [
              "<IPython.core.display.HTML object>"
            ],
            "text/html": [
              "\n",
              "              <p>\n",
              "                  Progress: 100% Complete\n",
              "              <p/>\n",
              "              <progress\n",
              "                  value='67'\n",
              "                  max='67',\n",
              "                  style='width: 25%',\n",
              "              >\n",
              "                  67\n",
              "              </progress>\n",
              "\n",
              "    "
            ]
          },
          "metadata": {}
        },
        {
          "output_type": "display_data",
          "data": {
            "text/plain": [
              "<IPython.core.display.HTML object>"
            ],
            "text/html": [
              "\n",
              "              <p>\n",
              "                  Progress: 100% Complete\n",
              "              <p/>\n",
              "              <progress\n",
              "                  value='67'\n",
              "                  max='67',\n",
              "                  style='width: 25%',\n",
              "              >\n",
              "                  67\n",
              "              </progress>\n",
              "\n",
              "    "
            ]
          },
          "metadata": {}
        },
        {
          "output_type": "display_data",
          "data": {
            "text/plain": [
              "<IPython.core.display.HTML object>"
            ],
            "text/html": [
              "\n",
              "              <p>\n",
              "                  Progress: 100% Complete\n",
              "              <p/>\n",
              "              <progress\n",
              "                  value='67'\n",
              "                  max='67',\n",
              "                  style='width: 25%',\n",
              "              >\n",
              "                  67\n",
              "              </progress>\n",
              "\n",
              "    "
            ]
          },
          "metadata": {}
        },
        {
          "output_type": "display_data",
          "data": {
            "text/plain": [
              "<IPython.core.display.HTML object>"
            ],
            "text/html": [
              "\n",
              "              <p>\n",
              "                  Progress: 100% Complete\n",
              "              <p/>\n",
              "              <progress\n",
              "                  value='67'\n",
              "                  max='67',\n",
              "                  style='width: 25%',\n",
              "              >\n",
              "                  67\n",
              "              </progress>\n",
              "\n",
              "    "
            ]
          },
          "metadata": {}
        },
        {
          "output_type": "display_data",
          "data": {
            "text/plain": [
              "<IPython.core.display.HTML object>"
            ],
            "text/html": [
              "\n",
              "              <p>\n",
              "                  Progress: 100% Complete\n",
              "              <p/>\n",
              "              <progress\n",
              "                  value='67'\n",
              "                  max='67',\n",
              "                  style='width: 25%',\n",
              "              >\n",
              "                  67\n",
              "              </progress>\n",
              "\n",
              "    "
            ]
          },
          "metadata": {}
        },
        {
          "output_type": "display_data",
          "data": {
            "text/plain": [
              "<IPython.core.display.HTML object>"
            ],
            "text/html": [
              "\n",
              "              <p>\n",
              "                  Progress: 100% Complete\n",
              "              <p/>\n",
              "              <progress\n",
              "                  value='67'\n",
              "                  max='67',\n",
              "                  style='width: 25%',\n",
              "              >\n",
              "                  67\n",
              "              </progress>\n",
              "\n",
              "    "
            ]
          },
          "metadata": {}
        },
        {
          "output_type": "display_data",
          "data": {
            "text/plain": [
              "<IPython.core.display.HTML object>"
            ],
            "text/html": [
              "\n",
              "              <p>\n",
              "                  Progress: 100% Complete\n",
              "              <p/>\n",
              "              <progress\n",
              "                  value='67'\n",
              "                  max='67',\n",
              "                  style='width: 25%',\n",
              "              >\n",
              "                  67\n",
              "              </progress>\n",
              "\n",
              "    "
            ]
          },
          "metadata": {}
        },
        {
          "output_type": "display_data",
          "data": {
            "text/plain": [
              "<IPython.core.display.HTML object>"
            ],
            "text/html": [
              "\n",
              "              <p>\n",
              "                  Progress: 100% Complete\n",
              "              <p/>\n",
              "              <progress\n",
              "                  value='67'\n",
              "                  max='67',\n",
              "                  style='width: 25%',\n",
              "              >\n",
              "                  67\n",
              "              </progress>\n",
              "\n",
              "    "
            ]
          },
          "metadata": {}
        },
        {
          "output_type": "display_data",
          "data": {
            "text/plain": [
              "<IPython.core.display.HTML object>"
            ],
            "text/html": [
              "\n",
              "              <p>\n",
              "                  Progress: 100% Complete\n",
              "              <p/>\n",
              "              <progress\n",
              "                  value='67'\n",
              "                  max='67',\n",
              "                  style='width: 25%',\n",
              "              >\n",
              "                  67\n",
              "              </progress>\n",
              "\n",
              "    "
            ]
          },
          "metadata": {}
        },
        {
          "output_type": "display_data",
          "data": {
            "text/plain": [
              "<IPython.core.display.HTML object>"
            ],
            "text/html": [
              "\n",
              "              <p>\n",
              "                  Progress: 100% Complete\n",
              "              <p/>\n",
              "              <progress\n",
              "                  value='67'\n",
              "                  max='67',\n",
              "                  style='width: 25%',\n",
              "              >\n",
              "                  67\n",
              "              </progress>\n",
              "\n",
              "    "
            ]
          },
          "metadata": {}
        },
        {
          "output_type": "display_data",
          "data": {
            "text/plain": [
              "<IPython.core.display.HTML object>"
            ],
            "text/html": [
              "\n",
              "              <p>\n",
              "                  Progress: 100% Complete\n",
              "              <p/>\n",
              "              <progress\n",
              "                  value='67'\n",
              "                  max='67',\n",
              "                  style='width: 25%',\n",
              "              >\n",
              "                  67\n",
              "              </progress>\n",
              "\n",
              "    "
            ]
          },
          "metadata": {}
        },
        {
          "output_type": "display_data",
          "data": {
            "text/plain": [
              "<IPython.core.display.HTML object>"
            ],
            "text/html": [
              "\n",
              "              <p>\n",
              "                  Progress: 100% Complete\n",
              "              <p/>\n",
              "              <progress\n",
              "                  value='67'\n",
              "                  max='67',\n",
              "                  style='width: 25%',\n",
              "              >\n",
              "                  67\n",
              "              </progress>\n",
              "\n",
              "    "
            ]
          },
          "metadata": {}
        },
        {
          "output_type": "display_data",
          "data": {
            "text/plain": [
              "<IPython.core.display.HTML object>"
            ],
            "text/html": [
              "\n",
              "              <p>\n",
              "                  Progress: 100% Complete\n",
              "              <p/>\n",
              "              <progress\n",
              "                  value='67'\n",
              "                  max='67',\n",
              "                  style='width: 25%',\n",
              "              >\n",
              "                  67\n",
              "              </progress>\n",
              "\n",
              "    "
            ]
          },
          "metadata": {}
        },
        {
          "output_type": "display_data",
          "data": {
            "text/plain": [
              "<IPython.core.display.HTML object>"
            ],
            "text/html": [
              "\n",
              "              <p>\n",
              "                  Progress: 100% Complete\n",
              "              <p/>\n",
              "              <progress\n",
              "                  value='67'\n",
              "                  max='67',\n",
              "                  style='width: 25%',\n",
              "              >\n",
              "                  67\n",
              "              </progress>\n",
              "\n",
              "    "
            ]
          },
          "metadata": {}
        },
        {
          "output_type": "display_data",
          "data": {
            "text/plain": [
              "<IPython.core.display.HTML object>"
            ],
            "text/html": [
              "\n",
              "              <p>\n",
              "                  Progress: 100% Complete\n",
              "              <p/>\n",
              "              <progress\n",
              "                  value='67'\n",
              "                  max='67',\n",
              "                  style='width: 25%',\n",
              "              >\n",
              "                  67\n",
              "              </progress>\n",
              "\n",
              "    "
            ]
          },
          "metadata": {}
        },
        {
          "output_type": "display_data",
          "data": {
            "text/plain": [
              "<IPython.core.display.HTML object>"
            ],
            "text/html": [
              "\n",
              "              <p>\n",
              "                  Progress: 100% Complete\n",
              "              <p/>\n",
              "              <progress\n",
              "                  value='67'\n",
              "                  max='67',\n",
              "                  style='width: 25%',\n",
              "              >\n",
              "                  67\n",
              "              </progress>\n",
              "\n",
              "    "
            ]
          },
          "metadata": {}
        },
        {
          "output_type": "display_data",
          "data": {
            "text/plain": [
              "<IPython.core.display.HTML object>"
            ],
            "text/html": [
              "\n",
              "              <p>\n",
              "                  Progress: 100% Complete\n",
              "              <p/>\n",
              "              <progress\n",
              "                  value='67'\n",
              "                  max='67',\n",
              "                  style='width: 25%',\n",
              "              >\n",
              "                  67\n",
              "              </progress>\n",
              "\n",
              "    "
            ]
          },
          "metadata": {}
        },
        {
          "output_type": "display_data",
          "data": {
            "text/plain": [
              "<IPython.core.display.HTML object>"
            ],
            "text/html": [
              "\n",
              "              <p>\n",
              "                  Progress: 100% Complete\n",
              "              <p/>\n",
              "              <progress\n",
              "                  value='67'\n",
              "                  max='67',\n",
              "                  style='width: 25%',\n",
              "              >\n",
              "                  67\n",
              "              </progress>\n",
              "\n",
              "    "
            ]
          },
          "metadata": {}
        },
        {
          "output_type": "display_data",
          "data": {
            "text/plain": [
              "<IPython.core.display.HTML object>"
            ],
            "text/html": [
              "\n",
              "              <p>\n",
              "                  Progress: 100% Complete\n",
              "              <p/>\n",
              "              <progress\n",
              "                  value='67'\n",
              "                  max='67',\n",
              "                  style='width: 25%',\n",
              "              >\n",
              "                  67\n",
              "              </progress>\n",
              "\n",
              "    "
            ]
          },
          "metadata": {}
        },
        {
          "output_type": "display_data",
          "data": {
            "text/plain": [
              "<IPython.core.display.HTML object>"
            ],
            "text/html": [
              "\n",
              "              <p>\n",
              "                  Progress: 100% Complete\n",
              "              <p/>\n",
              "              <progress\n",
              "                  value='67'\n",
              "                  max='67',\n",
              "                  style='width: 25%',\n",
              "              >\n",
              "                  67\n",
              "              </progress>\n",
              "\n",
              "    "
            ]
          },
          "metadata": {}
        },
        {
          "output_type": "display_data",
          "data": {
            "text/plain": [
              "<IPython.core.display.HTML object>"
            ],
            "text/html": [
              "\n",
              "              <p>\n",
              "                  Progress: 100% Complete\n",
              "              <p/>\n",
              "              <progress\n",
              "                  value='67'\n",
              "                  max='67',\n",
              "                  style='width: 25%',\n",
              "              >\n",
              "                  67\n",
              "              </progress>\n",
              "\n",
              "    "
            ]
          },
          "metadata": {}
        },
        {
          "output_type": "display_data",
          "data": {
            "text/plain": [
              "<IPython.core.display.HTML object>"
            ],
            "text/html": [
              "\n",
              "              <p>\n",
              "                  Progress: 100% Complete\n",
              "              <p/>\n",
              "              <progress\n",
              "                  value='67'\n",
              "                  max='67',\n",
              "                  style='width: 25%',\n",
              "              >\n",
              "                  67\n",
              "              </progress>\n",
              "\n",
              "    "
            ]
          },
          "metadata": {}
        },
        {
          "output_type": "display_data",
          "data": {
            "text/plain": [
              "<IPython.core.display.HTML object>"
            ],
            "text/html": [
              "\n",
              "              <p>\n",
              "                  Progress: 100% Complete\n",
              "              <p/>\n",
              "              <progress\n",
              "                  value='67'\n",
              "                  max='67',\n",
              "                  style='width: 25%',\n",
              "              >\n",
              "                  67\n",
              "              </progress>\n",
              "\n",
              "    "
            ]
          },
          "metadata": {}
        },
        {
          "output_type": "display_data",
          "data": {
            "text/plain": [
              "<IPython.core.display.HTML object>"
            ],
            "text/html": [
              "\n",
              "              <p>\n",
              "                  Progress: 100% Complete\n",
              "              <p/>\n",
              "              <progress\n",
              "                  value='67'\n",
              "                  max='67',\n",
              "                  style='width: 25%',\n",
              "              >\n",
              "                  67\n",
              "              </progress>\n",
              "\n",
              "    "
            ]
          },
          "metadata": {}
        },
        {
          "output_type": "display_data",
          "data": {
            "text/plain": [
              "<IPython.core.display.HTML object>"
            ],
            "text/html": [
              "\n",
              "              <p>\n",
              "                  Progress: 100% Complete\n",
              "              <p/>\n",
              "              <progress\n",
              "                  value='67'\n",
              "                  max='67',\n",
              "                  style='width: 25%',\n",
              "              >\n",
              "                  67\n",
              "              </progress>\n",
              "\n",
              "    "
            ]
          },
          "metadata": {}
        },
        {
          "output_type": "display_data",
          "data": {
            "text/plain": [
              "<IPython.core.display.HTML object>"
            ],
            "text/html": [
              "\n",
              "              <p>\n",
              "                  Progress: 100% Complete\n",
              "              <p/>\n",
              "              <progress\n",
              "                  value='67'\n",
              "                  max='67',\n",
              "                  style='width: 25%',\n",
              "              >\n",
              "                  67\n",
              "              </progress>\n",
              "\n",
              "    "
            ]
          },
          "metadata": {}
        },
        {
          "output_type": "display_data",
          "data": {
            "text/plain": [
              "<IPython.core.display.HTML object>"
            ],
            "text/html": [
              "\n",
              "              <p>\n",
              "                  Progress: 100% Complete\n",
              "              <p/>\n",
              "              <progress\n",
              "                  value='67'\n",
              "                  max='67',\n",
              "                  style='width: 25%',\n",
              "              >\n",
              "                  67\n",
              "              </progress>\n",
              "\n",
              "    "
            ]
          },
          "metadata": {}
        },
        {
          "output_type": "display_data",
          "data": {
            "text/plain": [
              "<IPython.core.display.HTML object>"
            ],
            "text/html": [
              "\n",
              "              <p>\n",
              "                  Progress: 100% Complete\n",
              "              <p/>\n",
              "              <progress\n",
              "                  value='67'\n",
              "                  max='67',\n",
              "                  style='width: 25%',\n",
              "              >\n",
              "                  67\n",
              "              </progress>\n",
              "\n",
              "    "
            ]
          },
          "metadata": {}
        },
        {
          "output_type": "display_data",
          "data": {
            "text/plain": [
              "<IPython.core.display.HTML object>"
            ],
            "text/html": [
              "\n",
              "              <p>\n",
              "                  Progress: 100% Complete\n",
              "              <p/>\n",
              "              <progress\n",
              "                  value='67'\n",
              "                  max='67',\n",
              "                  style='width: 25%',\n",
              "              >\n",
              "                  67\n",
              "              </progress>\n",
              "\n",
              "    "
            ]
          },
          "metadata": {}
        },
        {
          "output_type": "display_data",
          "data": {
            "text/plain": [
              "<IPython.core.display.HTML object>"
            ],
            "text/html": [
              "\n",
              "              <p>\n",
              "                  Progress: 100% Complete\n",
              "              <p/>\n",
              "              <progress\n",
              "                  value='67'\n",
              "                  max='67',\n",
              "                  style='width: 25%',\n",
              "              >\n",
              "                  67\n",
              "              </progress>\n",
              "\n",
              "    "
            ]
          },
          "metadata": {}
        },
        {
          "output_type": "display_data",
          "data": {
            "text/plain": [
              "<IPython.core.display.HTML object>"
            ],
            "text/html": [
              "\n",
              "              <p>\n",
              "                  Progress: 100% Complete\n",
              "              <p/>\n",
              "              <progress\n",
              "                  value='67'\n",
              "                  max='67',\n",
              "                  style='width: 25%',\n",
              "              >\n",
              "                  67\n",
              "              </progress>\n",
              "\n",
              "    "
            ]
          },
          "metadata": {}
        },
        {
          "output_type": "display_data",
          "data": {
            "text/plain": [
              "<IPython.core.display.HTML object>"
            ],
            "text/html": [
              "\n",
              "              <p>\n",
              "                  Progress: 100% Complete\n",
              "              <p/>\n",
              "              <progress\n",
              "                  value='67'\n",
              "                  max='67',\n",
              "                  style='width: 25%',\n",
              "              >\n",
              "                  67\n",
              "              </progress>\n",
              "\n",
              "    "
            ]
          },
          "metadata": {}
        },
        {
          "output_type": "display_data",
          "data": {
            "text/plain": [
              "<IPython.core.display.HTML object>"
            ],
            "text/html": [
              "\n",
              "              <p>\n",
              "                  Progress: 100% Complete\n",
              "              <p/>\n",
              "              <progress\n",
              "                  value='67'\n",
              "                  max='67',\n",
              "                  style='width: 25%',\n",
              "              >\n",
              "                  67\n",
              "              </progress>\n",
              "\n",
              "    "
            ]
          },
          "metadata": {}
        },
        {
          "output_type": "display_data",
          "data": {
            "text/plain": [
              "<IPython.core.display.HTML object>"
            ],
            "text/html": [
              "\n",
              "              <p>\n",
              "                  Progress: 100% Complete\n",
              "              <p/>\n",
              "              <progress\n",
              "                  value='67'\n",
              "                  max='67',\n",
              "                  style='width: 25%',\n",
              "              >\n",
              "                  67\n",
              "              </progress>\n",
              "\n",
              "    "
            ]
          },
          "metadata": {}
        },
        {
          "output_type": "display_data",
          "data": {
            "text/plain": [
              "<IPython.core.display.HTML object>"
            ],
            "text/html": [
              "\n",
              "              <p>\n",
              "                  Progress: 100% Complete\n",
              "              <p/>\n",
              "              <progress\n",
              "                  value='67'\n",
              "                  max='67',\n",
              "                  style='width: 25%',\n",
              "              >\n",
              "                  67\n",
              "              </progress>\n",
              "\n",
              "    "
            ]
          },
          "metadata": {}
        },
        {
          "output_type": "display_data",
          "data": {
            "text/plain": [
              "<IPython.core.display.HTML object>"
            ],
            "text/html": [
              "\n",
              "              <p>\n",
              "                  Progress: 100% Complete\n",
              "              <p/>\n",
              "              <progress\n",
              "                  value='67'\n",
              "                  max='67',\n",
              "                  style='width: 25%',\n",
              "              >\n",
              "                  67\n",
              "              </progress>\n",
              "\n",
              "    "
            ]
          },
          "metadata": {}
        },
        {
          "output_type": "display_data",
          "data": {
            "text/plain": [
              "<IPython.core.display.HTML object>"
            ],
            "text/html": [
              "\n",
              "              <p>\n",
              "                  Progress: 100% Complete\n",
              "              <p/>\n",
              "              <progress\n",
              "                  value='67'\n",
              "                  max='67',\n",
              "                  style='width: 25%',\n",
              "              >\n",
              "                  67\n",
              "              </progress>\n",
              "\n",
              "    "
            ]
          },
          "metadata": {}
        },
        {
          "output_type": "display_data",
          "data": {
            "text/plain": [
              "<IPython.core.display.HTML object>"
            ],
            "text/html": [
              "\n",
              "              <p>\n",
              "                  Progress: 100% Complete\n",
              "              <p/>\n",
              "              <progress\n",
              "                  value='67'\n",
              "                  max='67',\n",
              "                  style='width: 25%',\n",
              "              >\n",
              "                  67\n",
              "              </progress>\n",
              "\n",
              "    "
            ]
          },
          "metadata": {}
        },
        {
          "output_type": "display_data",
          "data": {
            "text/plain": [
              "<IPython.core.display.HTML object>"
            ],
            "text/html": [
              "\n",
              "              <p>\n",
              "                  Progress: 100% Complete\n",
              "              <p/>\n",
              "              <progress\n",
              "                  value='67'\n",
              "                  max='67',\n",
              "                  style='width: 25%',\n",
              "              >\n",
              "                  67\n",
              "              </progress>\n",
              "\n",
              "    "
            ]
          },
          "metadata": {}
        },
        {
          "output_type": "display_data",
          "data": {
            "text/plain": [
              "<IPython.core.display.HTML object>"
            ],
            "text/html": [
              "\n",
              "              <p>\n",
              "                  Progress: 100% Complete\n",
              "              <p/>\n",
              "              <progress\n",
              "                  value='67'\n",
              "                  max='67',\n",
              "                  style='width: 25%',\n",
              "              >\n",
              "                  67\n",
              "              </progress>\n",
              "\n",
              "    "
            ]
          },
          "metadata": {}
        },
        {
          "output_type": "display_data",
          "data": {
            "text/plain": [
              "<IPython.core.display.HTML object>"
            ],
            "text/html": [
              "\n",
              "              <p>\n",
              "                  Progress: 100% Complete\n",
              "              <p/>\n",
              "              <progress\n",
              "                  value='67'\n",
              "                  max='67',\n",
              "                  style='width: 25%',\n",
              "              >\n",
              "                  67\n",
              "              </progress>\n",
              "\n",
              "    "
            ]
          },
          "metadata": {}
        },
        {
          "output_type": "display_data",
          "data": {
            "text/plain": [
              "<IPython.core.display.HTML object>"
            ],
            "text/html": [
              "\n",
              "              <p>\n",
              "                  Progress: 100% Complete\n",
              "              <p/>\n",
              "              <progress\n",
              "                  value='67'\n",
              "                  max='67',\n",
              "                  style='width: 25%',\n",
              "              >\n",
              "                  67\n",
              "              </progress>\n",
              "\n",
              "    "
            ]
          },
          "metadata": {}
        },
        {
          "output_type": "display_data",
          "data": {
            "text/plain": [
              "<IPython.core.display.HTML object>"
            ],
            "text/html": [
              "\n",
              "              <p>\n",
              "                  Progress: 100% Complete\n",
              "              <p/>\n",
              "              <progress\n",
              "                  value='67'\n",
              "                  max='67',\n",
              "                  style='width: 25%',\n",
              "              >\n",
              "                  67\n",
              "              </progress>\n",
              "\n",
              "    "
            ]
          },
          "metadata": {}
        },
        {
          "output_type": "display_data",
          "data": {
            "text/plain": [
              "<IPython.core.display.HTML object>"
            ],
            "text/html": [
              "\n",
              "              <p>\n",
              "                  Progress: 100% Complete\n",
              "              <p/>\n",
              "              <progress\n",
              "                  value='67'\n",
              "                  max='67',\n",
              "                  style='width: 25%',\n",
              "              >\n",
              "                  67\n",
              "              </progress>\n",
              "\n",
              "    "
            ]
          },
          "metadata": {}
        },
        {
          "output_type": "display_data",
          "data": {
            "text/plain": [
              "<IPython.core.display.HTML object>"
            ],
            "text/html": [
              "\n",
              "              <p>\n",
              "                  Progress: 100% Complete\n",
              "              <p/>\n",
              "              <progress\n",
              "                  value='67'\n",
              "                  max='67',\n",
              "                  style='width: 25%',\n",
              "              >\n",
              "                  67\n",
              "              </progress>\n",
              "\n",
              "    "
            ]
          },
          "metadata": {}
        },
        {
          "output_type": "display_data",
          "data": {
            "text/plain": [
              "<IPython.core.display.HTML object>"
            ],
            "text/html": [
              "\n",
              "              <p>\n",
              "                  Progress: 100% Complete\n",
              "              <p/>\n",
              "              <progress\n",
              "                  value='67'\n",
              "                  max='67',\n",
              "                  style='width: 25%',\n",
              "              >\n",
              "                  67\n",
              "              </progress>\n",
              "\n",
              "    "
            ]
          },
          "metadata": {}
        },
        {
          "output_type": "display_data",
          "data": {
            "text/plain": [
              "<IPython.core.display.HTML object>"
            ],
            "text/html": [
              "\n",
              "              <p>\n",
              "                  Progress: 100% Complete\n",
              "              <p/>\n",
              "              <progress\n",
              "                  value='67'\n",
              "                  max='67',\n",
              "                  style='width: 25%',\n",
              "              >\n",
              "                  67\n",
              "              </progress>\n",
              "\n",
              "    "
            ]
          },
          "metadata": {}
        },
        {
          "output_type": "display_data",
          "data": {
            "text/plain": [
              "<IPython.core.display.HTML object>"
            ],
            "text/html": [
              "\n",
              "              <p>\n",
              "                  Progress: 100% Complete\n",
              "              <p/>\n",
              "              <progress\n",
              "                  value='67'\n",
              "                  max='67',\n",
              "                  style='width: 25%',\n",
              "              >\n",
              "                  67\n",
              "              </progress>\n",
              "\n",
              "    "
            ]
          },
          "metadata": {}
        },
        {
          "output_type": "display_data",
          "data": {
            "text/plain": [
              "<IPython.core.display.HTML object>"
            ],
            "text/html": [
              "\n",
              "              <p>\n",
              "                  Progress: 100% Complete\n",
              "              <p/>\n",
              "              <progress\n",
              "                  value='67'\n",
              "                  max='67',\n",
              "                  style='width: 25%',\n",
              "              >\n",
              "                  67\n",
              "              </progress>\n",
              "\n",
              "    "
            ]
          },
          "metadata": {}
        },
        {
          "output_type": "display_data",
          "data": {
            "text/plain": [
              "<IPython.core.display.HTML object>"
            ],
            "text/html": [
              "\n",
              "              <p>\n",
              "                  Progress: 100% Complete\n",
              "              <p/>\n",
              "              <progress\n",
              "                  value='67'\n",
              "                  max='67',\n",
              "                  style='width: 25%',\n",
              "              >\n",
              "                  67\n",
              "              </progress>\n",
              "\n",
              "    "
            ]
          },
          "metadata": {}
        },
        {
          "output_type": "display_data",
          "data": {
            "text/plain": [
              "<IPython.core.display.HTML object>"
            ],
            "text/html": [
              "\n",
              "              <p>\n",
              "                  Progress: 100% Complete\n",
              "              <p/>\n",
              "              <progress\n",
              "                  value='67'\n",
              "                  max='67',\n",
              "                  style='width: 25%',\n",
              "              >\n",
              "                  67\n",
              "              </progress>\n",
              "\n",
              "    "
            ]
          },
          "metadata": {}
        },
        {
          "output_type": "display_data",
          "data": {
            "text/plain": [
              "<IPython.core.display.HTML object>"
            ],
            "text/html": [
              "\n",
              "              <p>\n",
              "                  Progress: 100% Complete\n",
              "              <p/>\n",
              "              <progress\n",
              "                  value='67'\n",
              "                  max='67',\n",
              "                  style='width: 25%',\n",
              "              >\n",
              "                  67\n",
              "              </progress>\n",
              "\n",
              "    "
            ]
          },
          "metadata": {}
        },
        {
          "output_type": "display_data",
          "data": {
            "text/plain": [
              "<IPython.core.display.HTML object>"
            ],
            "text/html": [
              "\n",
              "              <p>\n",
              "                  Progress: 100% Complete\n",
              "              <p/>\n",
              "              <progress\n",
              "                  value='67'\n",
              "                  max='67',\n",
              "                  style='width: 25%',\n",
              "              >\n",
              "                  67\n",
              "              </progress>\n",
              "\n",
              "    "
            ]
          },
          "metadata": {}
        },
        {
          "output_type": "display_data",
          "data": {
            "text/plain": [
              "<IPython.core.display.HTML object>"
            ],
            "text/html": [
              "\n",
              "              <p>\n",
              "                  Progress: 100% Complete\n",
              "              <p/>\n",
              "              <progress\n",
              "                  value='67'\n",
              "                  max='67',\n",
              "                  style='width: 25%',\n",
              "              >\n",
              "                  67\n",
              "              </progress>\n",
              "\n",
              "    "
            ]
          },
          "metadata": {}
        },
        {
          "output_type": "display_data",
          "data": {
            "text/plain": [
              "<IPython.core.display.HTML object>"
            ],
            "text/html": [
              "\n",
              "              <p>\n",
              "                  Progress: 100% Complete\n",
              "              <p/>\n",
              "              <progress\n",
              "                  value='67'\n",
              "                  max='67',\n",
              "                  style='width: 25%',\n",
              "              >\n",
              "                  67\n",
              "              </progress>\n",
              "\n",
              "    "
            ]
          },
          "metadata": {}
        },
        {
          "output_type": "display_data",
          "data": {
            "text/plain": [
              "<IPython.core.display.HTML object>"
            ],
            "text/html": [
              "\n",
              "              <p>\n",
              "                  Progress: 100% Complete\n",
              "              <p/>\n",
              "              <progress\n",
              "                  value='67'\n",
              "                  max='67',\n",
              "                  style='width: 25%',\n",
              "              >\n",
              "                  67\n",
              "              </progress>\n",
              "\n",
              "    "
            ]
          },
          "metadata": {}
        },
        {
          "output_type": "display_data",
          "data": {
            "text/plain": [
              "<IPython.core.display.HTML object>"
            ],
            "text/html": [
              "\n",
              "              <p>\n",
              "                  Progress: 100% Complete\n",
              "              <p/>\n",
              "              <progress\n",
              "                  value='67'\n",
              "                  max='67',\n",
              "                  style='width: 25%',\n",
              "              >\n",
              "                  67\n",
              "              </progress>\n",
              "\n",
              "    "
            ]
          },
          "metadata": {}
        },
        {
          "output_type": "display_data",
          "data": {
            "text/plain": [
              "<IPython.core.display.HTML object>"
            ],
            "text/html": [
              "\n",
              "              <p>\n",
              "                  Progress: 100% Complete\n",
              "              <p/>\n",
              "              <progress\n",
              "                  value='67'\n",
              "                  max='67',\n",
              "                  style='width: 25%',\n",
              "              >\n",
              "                  67\n",
              "              </progress>\n",
              "\n",
              "    "
            ]
          },
          "metadata": {}
        },
        {
          "output_type": "display_data",
          "data": {
            "text/plain": [
              "<IPython.core.display.HTML object>"
            ],
            "text/html": [
              "\n",
              "              <p>\n",
              "                  Progress: 100% Complete\n",
              "              <p/>\n",
              "              <progress\n",
              "                  value='67'\n",
              "                  max='67',\n",
              "                  style='width: 25%',\n",
              "              >\n",
              "                  67\n",
              "              </progress>\n",
              "\n",
              "    "
            ]
          },
          "metadata": {}
        },
        {
          "output_type": "display_data",
          "data": {
            "text/plain": [
              "<IPython.core.display.HTML object>"
            ],
            "text/html": [
              "\n",
              "              <p>\n",
              "                  Progress: 100% Complete\n",
              "              <p/>\n",
              "              <progress\n",
              "                  value='67'\n",
              "                  max='67',\n",
              "                  style='width: 25%',\n",
              "              >\n",
              "                  67\n",
              "              </progress>\n",
              "\n",
              "    "
            ]
          },
          "metadata": {}
        },
        {
          "output_type": "display_data",
          "data": {
            "text/plain": [
              "<IPython.core.display.HTML object>"
            ],
            "text/html": [
              "\n",
              "              <p>\n",
              "                  Progress: 100% Complete\n",
              "              <p/>\n",
              "              <progress\n",
              "                  value='67'\n",
              "                  max='67',\n",
              "                  style='width: 25%',\n",
              "              >\n",
              "                  67\n",
              "              </progress>\n",
              "\n",
              "    "
            ]
          },
          "metadata": {}
        },
        {
          "output_type": "display_data",
          "data": {
            "text/plain": [
              "<IPython.core.display.HTML object>"
            ],
            "text/html": [
              "\n",
              "              <p>\n",
              "                  Progress: 100% Complete\n",
              "              <p/>\n",
              "              <progress\n",
              "                  value='67'\n",
              "                  max='67',\n",
              "                  style='width: 25%',\n",
              "              >\n",
              "                  67\n",
              "              </progress>\n",
              "\n",
              "    "
            ]
          },
          "metadata": {}
        },
        {
          "output_type": "display_data",
          "data": {
            "text/plain": [
              "<IPython.core.display.HTML object>"
            ],
            "text/html": [
              "\n",
              "              <p>\n",
              "                  Progress: 100% Complete\n",
              "              <p/>\n",
              "              <progress\n",
              "                  value='67'\n",
              "                  max='67',\n",
              "                  style='width: 25%',\n",
              "              >\n",
              "                  67\n",
              "              </progress>\n",
              "\n",
              "    "
            ]
          },
          "metadata": {}
        },
        {
          "output_type": "display_data",
          "data": {
            "text/plain": [
              "<IPython.core.display.HTML object>"
            ],
            "text/html": [
              "\n",
              "              <p>\n",
              "                  Progress: 100% Complete\n",
              "              <p/>\n",
              "              <progress\n",
              "                  value='67'\n",
              "                  max='67',\n",
              "                  style='width: 25%',\n",
              "              >\n",
              "                  67\n",
              "              </progress>\n",
              "\n",
              "    "
            ]
          },
          "metadata": {}
        },
        {
          "output_type": "display_data",
          "data": {
            "text/plain": [
              "<IPython.core.display.HTML object>"
            ],
            "text/html": [
              "\n",
              "              <p>\n",
              "                  Progress: 100% Complete\n",
              "              <p/>\n",
              "              <progress\n",
              "                  value='67'\n",
              "                  max='67',\n",
              "                  style='width: 25%',\n",
              "              >\n",
              "                  67\n",
              "              </progress>\n",
              "\n",
              "    "
            ]
          },
          "metadata": {}
        },
        {
          "output_type": "display_data",
          "data": {
            "text/plain": [
              "<IPython.core.display.HTML object>"
            ],
            "text/html": [
              "\n",
              "              <p>\n",
              "                  Progress: 100% Complete\n",
              "              <p/>\n",
              "              <progress\n",
              "                  value='67'\n",
              "                  max='67',\n",
              "                  style='width: 25%',\n",
              "              >\n",
              "                  67\n",
              "              </progress>\n",
              "\n",
              "    "
            ]
          },
          "metadata": {}
        },
        {
          "output_type": "display_data",
          "data": {
            "text/plain": [
              "<IPython.core.display.HTML object>"
            ],
            "text/html": [
              "\n",
              "              <p>\n",
              "                  Progress: 100% Complete\n",
              "              <p/>\n",
              "              <progress\n",
              "                  value='67'\n",
              "                  max='67',\n",
              "                  style='width: 25%',\n",
              "              >\n",
              "                  67\n",
              "              </progress>\n",
              "\n",
              "    "
            ]
          },
          "metadata": {}
        },
        {
          "output_type": "display_data",
          "data": {
            "text/plain": [
              "<IPython.core.display.HTML object>"
            ],
            "text/html": [
              "\n",
              "              <p>\n",
              "                  Progress: 100% Complete\n",
              "              <p/>\n",
              "              <progress\n",
              "                  value='67'\n",
              "                  max='67',\n",
              "                  style='width: 25%',\n",
              "              >\n",
              "                  67\n",
              "              </progress>\n",
              "\n",
              "    "
            ]
          },
          "metadata": {}
        },
        {
          "output_type": "display_data",
          "data": {
            "text/plain": [
              "<IPython.core.display.HTML object>"
            ],
            "text/html": [
              "\n",
              "              <p>\n",
              "                  Progress: 100% Complete\n",
              "              <p/>\n",
              "              <progress\n",
              "                  value='67'\n",
              "                  max='67',\n",
              "                  style='width: 25%',\n",
              "              >\n",
              "                  67\n",
              "              </progress>\n",
              "\n",
              "    "
            ]
          },
          "metadata": {}
        },
        {
          "output_type": "display_data",
          "data": {
            "text/plain": [
              "<IPython.core.display.HTML object>"
            ],
            "text/html": [
              "\n",
              "              <p>\n",
              "                  Progress: 100% Complete\n",
              "              <p/>\n",
              "              <progress\n",
              "                  value='67'\n",
              "                  max='67',\n",
              "                  style='width: 25%',\n",
              "              >\n",
              "                  67\n",
              "              </progress>\n",
              "\n",
              "    "
            ]
          },
          "metadata": {}
        },
        {
          "output_type": "display_data",
          "data": {
            "text/plain": [
              "<IPython.core.display.HTML object>"
            ],
            "text/html": [
              "\n",
              "              <p>\n",
              "                  Progress: 100% Complete\n",
              "              <p/>\n",
              "              <progress\n",
              "                  value='67'\n",
              "                  max='67',\n",
              "                  style='width: 25%',\n",
              "              >\n",
              "                  67\n",
              "              </progress>\n",
              "\n",
              "    "
            ]
          },
          "metadata": {}
        },
        {
          "output_type": "display_data",
          "data": {
            "text/plain": [
              "<IPython.core.display.HTML object>"
            ],
            "text/html": [
              "\n",
              "              <p>\n",
              "                  Progress: 100% Complete\n",
              "              <p/>\n",
              "              <progress\n",
              "                  value='67'\n",
              "                  max='67',\n",
              "                  style='width: 25%',\n",
              "              >\n",
              "                  67\n",
              "              </progress>\n",
              "\n",
              "    "
            ]
          },
          "metadata": {}
        },
        {
          "output_type": "display_data",
          "data": {
            "text/plain": [
              "<IPython.core.display.HTML object>"
            ],
            "text/html": [
              "\n",
              "              <p>\n",
              "                  Progress: 100% Complete\n",
              "              <p/>\n",
              "              <progress\n",
              "                  value='67'\n",
              "                  max='67',\n",
              "                  style='width: 25%',\n",
              "              >\n",
              "                  67\n",
              "              </progress>\n",
              "\n",
              "    "
            ]
          },
          "metadata": {}
        },
        {
          "output_type": "display_data",
          "data": {
            "text/plain": [
              "<IPython.core.display.HTML object>"
            ],
            "text/html": [
              "\n",
              "              <p>\n",
              "                  Progress: 100% Complete\n",
              "              <p/>\n",
              "              <progress\n",
              "                  value='67'\n",
              "                  max='67',\n",
              "                  style='width: 25%',\n",
              "              >\n",
              "                  67\n",
              "              </progress>\n",
              "\n",
              "    "
            ]
          },
          "metadata": {}
        },
        {
          "output_type": "display_data",
          "data": {
            "text/plain": [
              "<IPython.core.display.HTML object>"
            ],
            "text/html": [
              "\n",
              "              <p>\n",
              "                  Progress: 100% Complete\n",
              "              <p/>\n",
              "              <progress\n",
              "                  value='67'\n",
              "                  max='67',\n",
              "                  style='width: 25%',\n",
              "              >\n",
              "                  67\n",
              "              </progress>\n",
              "\n",
              "    "
            ]
          },
          "metadata": {}
        },
        {
          "output_type": "display_data",
          "data": {
            "text/plain": [
              "<IPython.core.display.HTML object>"
            ],
            "text/html": [
              "\n",
              "              <p>\n",
              "                  Progress: 100% Complete\n",
              "              <p/>\n",
              "              <progress\n",
              "                  value='67'\n",
              "                  max='67',\n",
              "                  style='width: 25%',\n",
              "              >\n",
              "                  67\n",
              "              </progress>\n",
              "\n",
              "    "
            ]
          },
          "metadata": {}
        },
        {
          "output_type": "display_data",
          "data": {
            "text/plain": [
              "<IPython.core.display.HTML object>"
            ],
            "text/html": [
              "\n",
              "              <p>\n",
              "                  Progress: 100% Complete\n",
              "              <p/>\n",
              "              <progress\n",
              "                  value='67'\n",
              "                  max='67',\n",
              "                  style='width: 25%',\n",
              "              >\n",
              "                  67\n",
              "              </progress>\n",
              "\n",
              "    "
            ]
          },
          "metadata": {}
        },
        {
          "output_type": "display_data",
          "data": {
            "text/plain": [
              "<IPython.core.display.HTML object>"
            ],
            "text/html": [
              "\n",
              "              <p>\n",
              "                  Progress: 100% Complete\n",
              "              <p/>\n",
              "              <progress\n",
              "                  value='67'\n",
              "                  max='67',\n",
              "                  style='width: 25%',\n",
              "              >\n",
              "                  67\n",
              "              </progress>\n",
              "\n",
              "    "
            ]
          },
          "metadata": {}
        },
        {
          "output_type": "display_data",
          "data": {
            "text/plain": [
              "<IPython.core.display.HTML object>"
            ],
            "text/html": [
              "\n",
              "              <p>\n",
              "                  Progress: 100% Complete\n",
              "              <p/>\n",
              "              <progress\n",
              "                  value='67'\n",
              "                  max='67',\n",
              "                  style='width: 25%',\n",
              "              >\n",
              "                  67\n",
              "              </progress>\n",
              "\n",
              "    "
            ]
          },
          "metadata": {}
        },
        {
          "output_type": "display_data",
          "data": {
            "text/plain": [
              "<IPython.core.display.HTML object>"
            ],
            "text/html": [
              "\n",
              "              <p>\n",
              "                  Progress: 100% Complete\n",
              "              <p/>\n",
              "              <progress\n",
              "                  value='67'\n",
              "                  max='67',\n",
              "                  style='width: 25%',\n",
              "              >\n",
              "                  67\n",
              "              </progress>\n",
              "\n",
              "    "
            ]
          },
          "metadata": {}
        },
        {
          "output_type": "display_data",
          "data": {
            "text/plain": [
              "<IPython.core.display.HTML object>"
            ],
            "text/html": [
              "\n",
              "              <p>\n",
              "                  Progress: 100% Complete\n",
              "              <p/>\n",
              "              <progress\n",
              "                  value='67'\n",
              "                  max='67',\n",
              "                  style='width: 25%',\n",
              "              >\n",
              "                  67\n",
              "              </progress>\n",
              "\n",
              "    "
            ]
          },
          "metadata": {}
        },
        {
          "output_type": "display_data",
          "data": {
            "text/plain": [
              "<IPython.core.display.HTML object>"
            ],
            "text/html": [
              "\n",
              "              <p>\n",
              "                  Progress: 100% Complete\n",
              "              <p/>\n",
              "              <progress\n",
              "                  value='67'\n",
              "                  max='67',\n",
              "                  style='width: 25%',\n",
              "              >\n",
              "                  67\n",
              "              </progress>\n",
              "\n",
              "    "
            ]
          },
          "metadata": {}
        },
        {
          "output_type": "display_data",
          "data": {
            "text/plain": [
              "<IPython.core.display.HTML object>"
            ],
            "text/html": [
              "\n",
              "              <p>\n",
              "                  Progress: 100% Complete\n",
              "              <p/>\n",
              "              <progress\n",
              "                  value='67'\n",
              "                  max='67',\n",
              "                  style='width: 25%',\n",
              "              >\n",
              "                  67\n",
              "              </progress>\n",
              "\n",
              "    "
            ]
          },
          "metadata": {}
        },
        {
          "output_type": "display_data",
          "data": {
            "text/plain": [
              "<IPython.core.display.HTML object>"
            ],
            "text/html": [
              "\n",
              "              <p>\n",
              "                  Progress: 100% Complete\n",
              "              <p/>\n",
              "              <progress\n",
              "                  value='67'\n",
              "                  max='67',\n",
              "                  style='width: 25%',\n",
              "              >\n",
              "                  67\n",
              "              </progress>\n",
              "\n",
              "    "
            ]
          },
          "metadata": {}
        },
        {
          "output_type": "display_data",
          "data": {
            "text/plain": [
              "<IPython.core.display.HTML object>"
            ],
            "text/html": [
              "\n",
              "              <p>\n",
              "                  Progress: 100% Complete\n",
              "              <p/>\n",
              "              <progress\n",
              "                  value='67'\n",
              "                  max='67',\n",
              "                  style='width: 25%',\n",
              "              >\n",
              "                  67\n",
              "              </progress>\n",
              "\n",
              "    "
            ]
          },
          "metadata": {}
        },
        {
          "output_type": "display_data",
          "data": {
            "text/plain": [
              "<IPython.core.display.HTML object>"
            ],
            "text/html": [
              "\n",
              "              <p>\n",
              "                  Progress: 100% Complete\n",
              "              <p/>\n",
              "              <progress\n",
              "                  value='67'\n",
              "                  max='67',\n",
              "                  style='width: 25%',\n",
              "              >\n",
              "                  67\n",
              "              </progress>\n",
              "\n",
              "    "
            ]
          },
          "metadata": {}
        },
        {
          "output_type": "display_data",
          "data": {
            "text/plain": [
              "<IPython.core.display.HTML object>"
            ],
            "text/html": [
              "\n",
              "              <p>\n",
              "                  Progress: 100% Complete\n",
              "              <p/>\n",
              "              <progress\n",
              "                  value='67'\n",
              "                  max='67',\n",
              "                  style='width: 25%',\n",
              "              >\n",
              "                  67\n",
              "              </progress>\n",
              "\n",
              "    "
            ]
          },
          "metadata": {}
        },
        {
          "output_type": "display_data",
          "data": {
            "text/plain": [
              "<IPython.core.display.HTML object>"
            ],
            "text/html": [
              "\n",
              "              <p>\n",
              "                  Progress: 100% Complete\n",
              "              <p/>\n",
              "              <progress\n",
              "                  value='67'\n",
              "                  max='67',\n",
              "                  style='width: 25%',\n",
              "              >\n",
              "                  67\n",
              "              </progress>\n",
              "\n",
              "    "
            ]
          },
          "metadata": {}
        },
        {
          "output_type": "display_data",
          "data": {
            "text/plain": [
              "<IPython.core.display.HTML object>"
            ],
            "text/html": [
              "\n",
              "              <p>\n",
              "                  Progress: 100% Complete\n",
              "              <p/>\n",
              "              <progress\n",
              "                  value='67'\n",
              "                  max='67',\n",
              "                  style='width: 25%',\n",
              "              >\n",
              "                  67\n",
              "              </progress>\n",
              "\n",
              "    "
            ]
          },
          "metadata": {}
        },
        {
          "output_type": "display_data",
          "data": {
            "text/plain": [
              "<IPython.core.display.HTML object>"
            ],
            "text/html": [
              "\n",
              "              <p>\n",
              "                  Progress: 100% Complete\n",
              "              <p/>\n",
              "              <progress\n",
              "                  value='67'\n",
              "                  max='67',\n",
              "                  style='width: 25%',\n",
              "              >\n",
              "                  67\n",
              "              </progress>\n",
              "\n",
              "    "
            ]
          },
          "metadata": {}
        },
        {
          "output_type": "display_data",
          "data": {
            "text/plain": [
              "<IPython.core.display.HTML object>"
            ],
            "text/html": [
              "\n",
              "              <p>\n",
              "                  Progress: 100% Complete\n",
              "              <p/>\n",
              "              <progress\n",
              "                  value='67'\n",
              "                  max='67',\n",
              "                  style='width: 25%',\n",
              "              >\n",
              "                  67\n",
              "              </progress>\n",
              "\n",
              "    "
            ]
          },
          "metadata": {}
        },
        {
          "output_type": "display_data",
          "data": {
            "text/plain": [
              "<IPython.core.display.HTML object>"
            ],
            "text/html": [
              "\n",
              "              <p>\n",
              "                  Progress: 100% Complete\n",
              "              <p/>\n",
              "              <progress\n",
              "                  value='67'\n",
              "                  max='67',\n",
              "                  style='width: 25%',\n",
              "              >\n",
              "                  67\n",
              "              </progress>\n",
              "\n",
              "    "
            ]
          },
          "metadata": {}
        },
        {
          "output_type": "display_data",
          "data": {
            "text/plain": [
              "<IPython.core.display.HTML object>"
            ],
            "text/html": [
              "\n",
              "              <p>\n",
              "                  Progress: 100% Complete\n",
              "              <p/>\n",
              "              <progress\n",
              "                  value='67'\n",
              "                  max='67',\n",
              "                  style='width: 25%',\n",
              "              >\n",
              "                  67\n",
              "              </progress>\n",
              "\n",
              "    "
            ]
          },
          "metadata": {}
        },
        {
          "output_type": "display_data",
          "data": {
            "text/plain": [
              "<IPython.core.display.HTML object>"
            ],
            "text/html": [
              "\n",
              "              <p>\n",
              "                  Progress: 100% Complete\n",
              "              <p/>\n",
              "              <progress\n",
              "                  value='67'\n",
              "                  max='67',\n",
              "                  style='width: 25%',\n",
              "              >\n",
              "                  67\n",
              "              </progress>\n",
              "\n",
              "    "
            ]
          },
          "metadata": {}
        },
        {
          "output_type": "display_data",
          "data": {
            "text/plain": [
              "<IPython.core.display.HTML object>"
            ],
            "text/html": [
              "\n",
              "              <p>\n",
              "                  Progress: 100% Complete\n",
              "              <p/>\n",
              "              <progress\n",
              "                  value='67'\n",
              "                  max='67',\n",
              "                  style='width: 25%',\n",
              "              >\n",
              "                  67\n",
              "              </progress>\n",
              "\n",
              "    "
            ]
          },
          "metadata": {}
        },
        {
          "output_type": "display_data",
          "data": {
            "text/plain": [
              "<IPython.core.display.HTML object>"
            ],
            "text/html": [
              "\n",
              "              <p>\n",
              "                  Progress: 100% Complete\n",
              "              <p/>\n",
              "              <progress\n",
              "                  value='67'\n",
              "                  max='67',\n",
              "                  style='width: 25%',\n",
              "              >\n",
              "                  67\n",
              "              </progress>\n",
              "\n",
              "    "
            ]
          },
          "metadata": {}
        },
        {
          "output_type": "display_data",
          "data": {
            "text/plain": [
              "<IPython.core.display.HTML object>"
            ],
            "text/html": [
              "\n",
              "              <p>\n",
              "                  Progress: 100% Complete\n",
              "              <p/>\n",
              "              <progress\n",
              "                  value='67'\n",
              "                  max='67',\n",
              "                  style='width: 25%',\n",
              "              >\n",
              "                  67\n",
              "              </progress>\n",
              "\n",
              "    "
            ]
          },
          "metadata": {}
        },
        {
          "output_type": "display_data",
          "data": {
            "text/plain": [
              "<IPython.core.display.HTML object>"
            ],
            "text/html": [
              "\n",
              "              <p>\n",
              "                  Progress: 100% Complete\n",
              "              <p/>\n",
              "              <progress\n",
              "                  value='67'\n",
              "                  max='67',\n",
              "                  style='width: 25%',\n",
              "              >\n",
              "                  67\n",
              "              </progress>\n",
              "\n",
              "    "
            ]
          },
          "metadata": {}
        },
        {
          "output_type": "display_data",
          "data": {
            "text/plain": [
              "<IPython.core.display.HTML object>"
            ],
            "text/html": [
              "\n",
              "              <p>\n",
              "                  Progress: 100% Complete\n",
              "              <p/>\n",
              "              <progress\n",
              "                  value='67'\n",
              "                  max='67',\n",
              "                  style='width: 25%',\n",
              "              >\n",
              "                  67\n",
              "              </progress>\n",
              "\n",
              "    "
            ]
          },
          "metadata": {}
        },
        {
          "output_type": "display_data",
          "data": {
            "text/plain": [
              "<IPython.core.display.HTML object>"
            ],
            "text/html": [
              "\n",
              "              <p>\n",
              "                  Progress: 100% Complete\n",
              "              <p/>\n",
              "              <progress\n",
              "                  value='67'\n",
              "                  max='67',\n",
              "                  style='width: 25%',\n",
              "              >\n",
              "                  67\n",
              "              </progress>\n",
              "\n",
              "    "
            ]
          },
          "metadata": {}
        },
        {
          "output_type": "display_data",
          "data": {
            "text/plain": [
              "<IPython.core.display.HTML object>"
            ],
            "text/html": [
              "\n",
              "              <p>\n",
              "                  Progress: 100% Complete\n",
              "              <p/>\n",
              "              <progress\n",
              "                  value='67'\n",
              "                  max='67',\n",
              "                  style='width: 25%',\n",
              "              >\n",
              "                  67\n",
              "              </progress>\n",
              "\n",
              "    "
            ]
          },
          "metadata": {}
        },
        {
          "output_type": "display_data",
          "data": {
            "text/plain": [
              "<IPython.core.display.HTML object>"
            ],
            "text/html": [
              "\n",
              "              <p>\n",
              "                  Progress: 100% Complete\n",
              "              <p/>\n",
              "              <progress\n",
              "                  value='67'\n",
              "                  max='67',\n",
              "                  style='width: 25%',\n",
              "              >\n",
              "                  67\n",
              "              </progress>\n",
              "\n",
              "    "
            ]
          },
          "metadata": {}
        },
        {
          "output_type": "display_data",
          "data": {
            "text/plain": [
              "<IPython.core.display.HTML object>"
            ],
            "text/html": [
              "\n",
              "              <p>\n",
              "                  Progress: 100% Complete\n",
              "              <p/>\n",
              "              <progress\n",
              "                  value='67'\n",
              "                  max='67',\n",
              "                  style='width: 25%',\n",
              "              >\n",
              "                  67\n",
              "              </progress>\n",
              "\n",
              "    "
            ]
          },
          "metadata": {}
        },
        {
          "output_type": "display_data",
          "data": {
            "text/plain": [
              "<IPython.core.display.HTML object>"
            ],
            "text/html": [
              "\n",
              "              <p>\n",
              "                  Progress: 100% Complete\n",
              "              <p/>\n",
              "              <progress\n",
              "                  value='67'\n",
              "                  max='67',\n",
              "                  style='width: 25%',\n",
              "              >\n",
              "                  67\n",
              "              </progress>\n",
              "\n",
              "    "
            ]
          },
          "metadata": {}
        },
        {
          "output_type": "display_data",
          "data": {
            "text/plain": [
              "<IPython.core.display.HTML object>"
            ],
            "text/html": [
              "\n",
              "              <p>\n",
              "                  Progress: 100% Complete\n",
              "              <p/>\n",
              "              <progress\n",
              "                  value='67'\n",
              "                  max='67',\n",
              "                  style='width: 25%',\n",
              "              >\n",
              "                  67\n",
              "              </progress>\n",
              "\n",
              "    "
            ]
          },
          "metadata": {}
        }
      ]
    },
    {
      "cell_type": "code",
      "source": [
        "# fill NaN values with 0 to ensure the array is compatible with scikit-learn\n",
        "X_train_tsfel = pd.concat(X_train_tsfel_dfs, axis=0).fillna(0).values"
      ],
      "metadata": {
        "id": "lYnvF6jeR3BQ"
      },
      "execution_count": null,
      "outputs": []
    },
    {
      "cell_type": "code",
      "source": [
        "# same for X_test\n",
        "X_test_tsfel_dfs = []\n",
        "for df in X_test_dfs:\n",
        "    feature_df = tsfel.time_series_features_extractor(tsfel_config, df, fs=50)\n",
        "    X_test_tsfel_dfs.append(feature_df)\n",
        "\n",
        "X_test_tsfel = pd.concat(X_test_tsfel_dfs, axis=0).fillna(0).values"
      ],
      "metadata": {
        "colab": {
          "base_uri": "https://localhost:8080/",
          "height": 1000
        },
        "collapsed": true,
        "id": "x53nnc3UR4PL",
        "outputId": "4e7cfd7b-5aa7-4523-ba72-c04561c0cea1"
      },
      "execution_count": null,
      "outputs": [
        {
          "output_type": "display_data",
          "data": {
            "text/plain": [
              "<IPython.core.display.HTML object>"
            ],
            "text/html": [
              "\n",
              "              <p>\n",
              "                  Progress: 100% Complete\n",
              "              <p/>\n",
              "              <progress\n",
              "                  value='67'\n",
              "                  max='67',\n",
              "                  style='width: 25%',\n",
              "              >\n",
              "                  67\n",
              "              </progress>\n",
              "\n",
              "    "
            ]
          },
          "metadata": {}
        },
        {
          "output_type": "display_data",
          "data": {
            "text/plain": [
              "<IPython.core.display.HTML object>"
            ],
            "text/html": [
              "\n",
              "              <p>\n",
              "                  Progress: 100% Complete\n",
              "              <p/>\n",
              "              <progress\n",
              "                  value='67'\n",
              "                  max='67',\n",
              "                  style='width: 25%',\n",
              "              >\n",
              "                  67\n",
              "              </progress>\n",
              "\n",
              "    "
            ]
          },
          "metadata": {}
        },
        {
          "output_type": "display_data",
          "data": {
            "text/plain": [
              "<IPython.core.display.HTML object>"
            ],
            "text/html": [
              "\n",
              "              <p>\n",
              "                  Progress: 100% Complete\n",
              "              <p/>\n",
              "              <progress\n",
              "                  value='67'\n",
              "                  max='67',\n",
              "                  style='width: 25%',\n",
              "              >\n",
              "                  67\n",
              "              </progress>\n",
              "\n",
              "    "
            ]
          },
          "metadata": {}
        },
        {
          "output_type": "display_data",
          "data": {
            "text/plain": [
              "<IPython.core.display.HTML object>"
            ],
            "text/html": [
              "\n",
              "              <p>\n",
              "                  Progress: 100% Complete\n",
              "              <p/>\n",
              "              <progress\n",
              "                  value='67'\n",
              "                  max='67',\n",
              "                  style='width: 25%',\n",
              "              >\n",
              "                  67\n",
              "              </progress>\n",
              "\n",
              "    "
            ]
          },
          "metadata": {}
        },
        {
          "output_type": "display_data",
          "data": {
            "text/plain": [
              "<IPython.core.display.HTML object>"
            ],
            "text/html": [
              "\n",
              "              <p>\n",
              "                  Progress: 100% Complete\n",
              "              <p/>\n",
              "              <progress\n",
              "                  value='67'\n",
              "                  max='67',\n",
              "                  style='width: 25%',\n",
              "              >\n",
              "                  67\n",
              "              </progress>\n",
              "\n",
              "    "
            ]
          },
          "metadata": {}
        },
        {
          "output_type": "display_data",
          "data": {
            "text/plain": [
              "<IPython.core.display.HTML object>"
            ],
            "text/html": [
              "\n",
              "              <p>\n",
              "                  Progress: 100% Complete\n",
              "              <p/>\n",
              "              <progress\n",
              "                  value='67'\n",
              "                  max='67',\n",
              "                  style='width: 25%',\n",
              "              >\n",
              "                  67\n",
              "              </progress>\n",
              "\n",
              "    "
            ]
          },
          "metadata": {}
        },
        {
          "output_type": "display_data",
          "data": {
            "text/plain": [
              "<IPython.core.display.HTML object>"
            ],
            "text/html": [
              "\n",
              "              <p>\n",
              "                  Progress: 100% Complete\n",
              "              <p/>\n",
              "              <progress\n",
              "                  value='67'\n",
              "                  max='67',\n",
              "                  style='width: 25%',\n",
              "              >\n",
              "                  67\n",
              "              </progress>\n",
              "\n",
              "    "
            ]
          },
          "metadata": {}
        },
        {
          "output_type": "display_data",
          "data": {
            "text/plain": [
              "<IPython.core.display.HTML object>"
            ],
            "text/html": [
              "\n",
              "              <p>\n",
              "                  Progress: 100% Complete\n",
              "              <p/>\n",
              "              <progress\n",
              "                  value='67'\n",
              "                  max='67',\n",
              "                  style='width: 25%',\n",
              "              >\n",
              "                  67\n",
              "              </progress>\n",
              "\n",
              "    "
            ]
          },
          "metadata": {}
        },
        {
          "output_type": "display_data",
          "data": {
            "text/plain": [
              "<IPython.core.display.HTML object>"
            ],
            "text/html": [
              "\n",
              "              <p>\n",
              "                  Progress: 100% Complete\n",
              "              <p/>\n",
              "              <progress\n",
              "                  value='67'\n",
              "                  max='67',\n",
              "                  style='width: 25%',\n",
              "              >\n",
              "                  67\n",
              "              </progress>\n",
              "\n",
              "    "
            ]
          },
          "metadata": {}
        },
        {
          "output_type": "display_data",
          "data": {
            "text/plain": [
              "<IPython.core.display.HTML object>"
            ],
            "text/html": [
              "\n",
              "              <p>\n",
              "                  Progress: 100% Complete\n",
              "              <p/>\n",
              "              <progress\n",
              "                  value='67'\n",
              "                  max='67',\n",
              "                  style='width: 25%',\n",
              "              >\n",
              "                  67\n",
              "              </progress>\n",
              "\n",
              "    "
            ]
          },
          "metadata": {}
        },
        {
          "output_type": "display_data",
          "data": {
            "text/plain": [
              "<IPython.core.display.HTML object>"
            ],
            "text/html": [
              "\n",
              "              <p>\n",
              "                  Progress: 100% Complete\n",
              "              <p/>\n",
              "              <progress\n",
              "                  value='67'\n",
              "                  max='67',\n",
              "                  style='width: 25%',\n",
              "              >\n",
              "                  67\n",
              "              </progress>\n",
              "\n",
              "    "
            ]
          },
          "metadata": {}
        },
        {
          "output_type": "display_data",
          "data": {
            "text/plain": [
              "<IPython.core.display.HTML object>"
            ],
            "text/html": [
              "\n",
              "              <p>\n",
              "                  Progress: 100% Complete\n",
              "              <p/>\n",
              "              <progress\n",
              "                  value='67'\n",
              "                  max='67',\n",
              "                  style='width: 25%',\n",
              "              >\n",
              "                  67\n",
              "              </progress>\n",
              "\n",
              "    "
            ]
          },
          "metadata": {}
        },
        {
          "output_type": "display_data",
          "data": {
            "text/plain": [
              "<IPython.core.display.HTML object>"
            ],
            "text/html": [
              "\n",
              "              <p>\n",
              "                  Progress: 100% Complete\n",
              "              <p/>\n",
              "              <progress\n",
              "                  value='67'\n",
              "                  max='67',\n",
              "                  style='width: 25%',\n",
              "              >\n",
              "                  67\n",
              "              </progress>\n",
              "\n",
              "    "
            ]
          },
          "metadata": {}
        },
        {
          "output_type": "display_data",
          "data": {
            "text/plain": [
              "<IPython.core.display.HTML object>"
            ],
            "text/html": [
              "\n",
              "              <p>\n",
              "                  Progress: 100% Complete\n",
              "              <p/>\n",
              "              <progress\n",
              "                  value='67'\n",
              "                  max='67',\n",
              "                  style='width: 25%',\n",
              "              >\n",
              "                  67\n",
              "              </progress>\n",
              "\n",
              "    "
            ]
          },
          "metadata": {}
        },
        {
          "output_type": "display_data",
          "data": {
            "text/plain": [
              "<IPython.core.display.HTML object>"
            ],
            "text/html": [
              "\n",
              "              <p>\n",
              "                  Progress: 100% Complete\n",
              "              <p/>\n",
              "              <progress\n",
              "                  value='67'\n",
              "                  max='67',\n",
              "                  style='width: 25%',\n",
              "              >\n",
              "                  67\n",
              "              </progress>\n",
              "\n",
              "    "
            ]
          },
          "metadata": {}
        },
        {
          "output_type": "display_data",
          "data": {
            "text/plain": [
              "<IPython.core.display.HTML object>"
            ],
            "text/html": [
              "\n",
              "              <p>\n",
              "                  Progress: 100% Complete\n",
              "              <p/>\n",
              "              <progress\n",
              "                  value='67'\n",
              "                  max='67',\n",
              "                  style='width: 25%',\n",
              "              >\n",
              "                  67\n",
              "              </progress>\n",
              "\n",
              "    "
            ]
          },
          "metadata": {}
        },
        {
          "output_type": "display_data",
          "data": {
            "text/plain": [
              "<IPython.core.display.HTML object>"
            ],
            "text/html": [
              "\n",
              "              <p>\n",
              "                  Progress: 100% Complete\n",
              "              <p/>\n",
              "              <progress\n",
              "                  value='67'\n",
              "                  max='67',\n",
              "                  style='width: 25%',\n",
              "              >\n",
              "                  67\n",
              "              </progress>\n",
              "\n",
              "    "
            ]
          },
          "metadata": {}
        },
        {
          "output_type": "display_data",
          "data": {
            "text/plain": [
              "<IPython.core.display.HTML object>"
            ],
            "text/html": [
              "\n",
              "              <p>\n",
              "                  Progress: 100% Complete\n",
              "              <p/>\n",
              "              <progress\n",
              "                  value='67'\n",
              "                  max='67',\n",
              "                  style='width: 25%',\n",
              "              >\n",
              "                  67\n",
              "              </progress>\n",
              "\n",
              "    "
            ]
          },
          "metadata": {}
        },
        {
          "output_type": "display_data",
          "data": {
            "text/plain": [
              "<IPython.core.display.HTML object>"
            ],
            "text/html": [
              "\n",
              "              <p>\n",
              "                  Progress: 100% Complete\n",
              "              <p/>\n",
              "              <progress\n",
              "                  value='67'\n",
              "                  max='67',\n",
              "                  style='width: 25%',\n",
              "              >\n",
              "                  67\n",
              "              </progress>\n",
              "\n",
              "    "
            ]
          },
          "metadata": {}
        },
        {
          "output_type": "display_data",
          "data": {
            "text/plain": [
              "<IPython.core.display.HTML object>"
            ],
            "text/html": [
              "\n",
              "              <p>\n",
              "                  Progress: 100% Complete\n",
              "              <p/>\n",
              "              <progress\n",
              "                  value='67'\n",
              "                  max='67',\n",
              "                  style='width: 25%',\n",
              "              >\n",
              "                  67\n",
              "              </progress>\n",
              "\n",
              "    "
            ]
          },
          "metadata": {}
        },
        {
          "output_type": "display_data",
          "data": {
            "text/plain": [
              "<IPython.core.display.HTML object>"
            ],
            "text/html": [
              "\n",
              "              <p>\n",
              "                  Progress: 100% Complete\n",
              "              <p/>\n",
              "              <progress\n",
              "                  value='67'\n",
              "                  max='67',\n",
              "                  style='width: 25%',\n",
              "              >\n",
              "                  67\n",
              "              </progress>\n",
              "\n",
              "    "
            ]
          },
          "metadata": {}
        },
        {
          "output_type": "display_data",
          "data": {
            "text/plain": [
              "<IPython.core.display.HTML object>"
            ],
            "text/html": [
              "\n",
              "              <p>\n",
              "                  Progress: 100% Complete\n",
              "              <p/>\n",
              "              <progress\n",
              "                  value='67'\n",
              "                  max='67',\n",
              "                  style='width: 25%',\n",
              "              >\n",
              "                  67\n",
              "              </progress>\n",
              "\n",
              "    "
            ]
          },
          "metadata": {}
        },
        {
          "output_type": "display_data",
          "data": {
            "text/plain": [
              "<IPython.core.display.HTML object>"
            ],
            "text/html": [
              "\n",
              "              <p>\n",
              "                  Progress: 100% Complete\n",
              "              <p/>\n",
              "              <progress\n",
              "                  value='67'\n",
              "                  max='67',\n",
              "                  style='width: 25%',\n",
              "              >\n",
              "                  67\n",
              "              </progress>\n",
              "\n",
              "    "
            ]
          },
          "metadata": {}
        },
        {
          "output_type": "display_data",
          "data": {
            "text/plain": [
              "<IPython.core.display.HTML object>"
            ],
            "text/html": [
              "\n",
              "              <p>\n",
              "                  Progress: 100% Complete\n",
              "              <p/>\n",
              "              <progress\n",
              "                  value='67'\n",
              "                  max='67',\n",
              "                  style='width: 25%',\n",
              "              >\n",
              "                  67\n",
              "              </progress>\n",
              "\n",
              "    "
            ]
          },
          "metadata": {}
        },
        {
          "output_type": "display_data",
          "data": {
            "text/plain": [
              "<IPython.core.display.HTML object>"
            ],
            "text/html": [
              "\n",
              "              <p>\n",
              "                  Progress: 100% Complete\n",
              "              <p/>\n",
              "              <progress\n",
              "                  value='67'\n",
              "                  max='67',\n",
              "                  style='width: 25%',\n",
              "              >\n",
              "                  67\n",
              "              </progress>\n",
              "\n",
              "    "
            ]
          },
          "metadata": {}
        },
        {
          "output_type": "display_data",
          "data": {
            "text/plain": [
              "<IPython.core.display.HTML object>"
            ],
            "text/html": [
              "\n",
              "              <p>\n",
              "                  Progress: 100% Complete\n",
              "              <p/>\n",
              "              <progress\n",
              "                  value='67'\n",
              "                  max='67',\n",
              "                  style='width: 25%',\n",
              "              >\n",
              "                  67\n",
              "              </progress>\n",
              "\n",
              "    "
            ]
          },
          "metadata": {}
        },
        {
          "output_type": "display_data",
          "data": {
            "text/plain": [
              "<IPython.core.display.HTML object>"
            ],
            "text/html": [
              "\n",
              "              <p>\n",
              "                  Progress: 100% Complete\n",
              "              <p/>\n",
              "              <progress\n",
              "                  value='67'\n",
              "                  max='67',\n",
              "                  style='width: 25%',\n",
              "              >\n",
              "                  67\n",
              "              </progress>\n",
              "\n",
              "    "
            ]
          },
          "metadata": {}
        },
        {
          "output_type": "display_data",
          "data": {
            "text/plain": [
              "<IPython.core.display.HTML object>"
            ],
            "text/html": [
              "\n",
              "              <p>\n",
              "                  Progress: 100% Complete\n",
              "              <p/>\n",
              "              <progress\n",
              "                  value='67'\n",
              "                  max='67',\n",
              "                  style='width: 25%',\n",
              "              >\n",
              "                  67\n",
              "              </progress>\n",
              "\n",
              "    "
            ]
          },
          "metadata": {}
        },
        {
          "output_type": "display_data",
          "data": {
            "text/plain": [
              "<IPython.core.display.HTML object>"
            ],
            "text/html": [
              "\n",
              "              <p>\n",
              "                  Progress: 100% Complete\n",
              "              <p/>\n",
              "              <progress\n",
              "                  value='67'\n",
              "                  max='67',\n",
              "                  style='width: 25%',\n",
              "              >\n",
              "                  67\n",
              "              </progress>\n",
              "\n",
              "    "
            ]
          },
          "metadata": {}
        },
        {
          "output_type": "display_data",
          "data": {
            "text/plain": [
              "<IPython.core.display.HTML object>"
            ],
            "text/html": [
              "\n",
              "              <p>\n",
              "                  Progress: 100% Complete\n",
              "              <p/>\n",
              "              <progress\n",
              "                  value='67'\n",
              "                  max='67',\n",
              "                  style='width: 25%',\n",
              "              >\n",
              "                  67\n",
              "              </progress>\n",
              "\n",
              "    "
            ]
          },
          "metadata": {}
        },
        {
          "output_type": "display_data",
          "data": {
            "text/plain": [
              "<IPython.core.display.HTML object>"
            ],
            "text/html": [
              "\n",
              "              <p>\n",
              "                  Progress: 100% Complete\n",
              "              <p/>\n",
              "              <progress\n",
              "                  value='67'\n",
              "                  max='67',\n",
              "                  style='width: 25%',\n",
              "              >\n",
              "                  67\n",
              "              </progress>\n",
              "\n",
              "    "
            ]
          },
          "metadata": {}
        },
        {
          "output_type": "display_data",
          "data": {
            "text/plain": [
              "<IPython.core.display.HTML object>"
            ],
            "text/html": [
              "\n",
              "              <p>\n",
              "                  Progress: 100% Complete\n",
              "              <p/>\n",
              "              <progress\n",
              "                  value='67'\n",
              "                  max='67',\n",
              "                  style='width: 25%',\n",
              "              >\n",
              "                  67\n",
              "              </progress>\n",
              "\n",
              "    "
            ]
          },
          "metadata": {}
        },
        {
          "output_type": "display_data",
          "data": {
            "text/plain": [
              "<IPython.core.display.HTML object>"
            ],
            "text/html": [
              "\n",
              "              <p>\n",
              "                  Progress: 100% Complete\n",
              "              <p/>\n",
              "              <progress\n",
              "                  value='67'\n",
              "                  max='67',\n",
              "                  style='width: 25%',\n",
              "              >\n",
              "                  67\n",
              "              </progress>\n",
              "\n",
              "    "
            ]
          },
          "metadata": {}
        },
        {
          "output_type": "display_data",
          "data": {
            "text/plain": [
              "<IPython.core.display.HTML object>"
            ],
            "text/html": [
              "\n",
              "              <p>\n",
              "                  Progress: 100% Complete\n",
              "              <p/>\n",
              "              <progress\n",
              "                  value='67'\n",
              "                  max='67',\n",
              "                  style='width: 25%',\n",
              "              >\n",
              "                  67\n",
              "              </progress>\n",
              "\n",
              "    "
            ]
          },
          "metadata": {}
        },
        {
          "output_type": "display_data",
          "data": {
            "text/plain": [
              "<IPython.core.display.HTML object>"
            ],
            "text/html": [
              "\n",
              "              <p>\n",
              "                  Progress: 100% Complete\n",
              "              <p/>\n",
              "              <progress\n",
              "                  value='67'\n",
              "                  max='67',\n",
              "                  style='width: 25%',\n",
              "              >\n",
              "                  67\n",
              "              </progress>\n",
              "\n",
              "    "
            ]
          },
          "metadata": {}
        },
        {
          "output_type": "display_data",
          "data": {
            "text/plain": [
              "<IPython.core.display.HTML object>"
            ],
            "text/html": [
              "\n",
              "              <p>\n",
              "                  Progress: 100% Complete\n",
              "              <p/>\n",
              "              <progress\n",
              "                  value='67'\n",
              "                  max='67',\n",
              "                  style='width: 25%',\n",
              "              >\n",
              "                  67\n",
              "              </progress>\n",
              "\n",
              "    "
            ]
          },
          "metadata": {}
        },
        {
          "output_type": "display_data",
          "data": {
            "text/plain": [
              "<IPython.core.display.HTML object>"
            ],
            "text/html": [
              "\n",
              "              <p>\n",
              "                  Progress: 100% Complete\n",
              "              <p/>\n",
              "              <progress\n",
              "                  value='67'\n",
              "                  max='67',\n",
              "                  style='width: 25%',\n",
              "              >\n",
              "                  67\n",
              "              </progress>\n",
              "\n",
              "    "
            ]
          },
          "metadata": {}
        },
        {
          "output_type": "display_data",
          "data": {
            "text/plain": [
              "<IPython.core.display.HTML object>"
            ],
            "text/html": [
              "\n",
              "              <p>\n",
              "                  Progress: 100% Complete\n",
              "              <p/>\n",
              "              <progress\n",
              "                  value='67'\n",
              "                  max='67',\n",
              "                  style='width: 25%',\n",
              "              >\n",
              "                  67\n",
              "              </progress>\n",
              "\n",
              "    "
            ]
          },
          "metadata": {}
        },
        {
          "output_type": "display_data",
          "data": {
            "text/plain": [
              "<IPython.core.display.HTML object>"
            ],
            "text/html": [
              "\n",
              "              <p>\n",
              "                  Progress: 100% Complete\n",
              "              <p/>\n",
              "              <progress\n",
              "                  value='67'\n",
              "                  max='67',\n",
              "                  style='width: 25%',\n",
              "              >\n",
              "                  67\n",
              "              </progress>\n",
              "\n",
              "    "
            ]
          },
          "metadata": {}
        },
        {
          "output_type": "display_data",
          "data": {
            "text/plain": [
              "<IPython.core.display.HTML object>"
            ],
            "text/html": [
              "\n",
              "              <p>\n",
              "                  Progress: 100% Complete\n",
              "              <p/>\n",
              "              <progress\n",
              "                  value='67'\n",
              "                  max='67',\n",
              "                  style='width: 25%',\n",
              "              >\n",
              "                  67\n",
              "              </progress>\n",
              "\n",
              "    "
            ]
          },
          "metadata": {}
        },
        {
          "output_type": "display_data",
          "data": {
            "text/plain": [
              "<IPython.core.display.HTML object>"
            ],
            "text/html": [
              "\n",
              "              <p>\n",
              "                  Progress: 100% Complete\n",
              "              <p/>\n",
              "              <progress\n",
              "                  value='67'\n",
              "                  max='67',\n",
              "                  style='width: 25%',\n",
              "              >\n",
              "                  67\n",
              "              </progress>\n",
              "\n",
              "    "
            ]
          },
          "metadata": {}
        },
        {
          "output_type": "display_data",
          "data": {
            "text/plain": [
              "<IPython.core.display.HTML object>"
            ],
            "text/html": [
              "\n",
              "              <p>\n",
              "                  Progress: 100% Complete\n",
              "              <p/>\n",
              "              <progress\n",
              "                  value='67'\n",
              "                  max='67',\n",
              "                  style='width: 25%',\n",
              "              >\n",
              "                  67\n",
              "              </progress>\n",
              "\n",
              "    "
            ]
          },
          "metadata": {}
        },
        {
          "output_type": "display_data",
          "data": {
            "text/plain": [
              "<IPython.core.display.HTML object>"
            ],
            "text/html": [
              "\n",
              "              <p>\n",
              "                  Progress: 100% Complete\n",
              "              <p/>\n",
              "              <progress\n",
              "                  value='67'\n",
              "                  max='67',\n",
              "                  style='width: 25%',\n",
              "              >\n",
              "                  67\n",
              "              </progress>\n",
              "\n",
              "    "
            ]
          },
          "metadata": {}
        },
        {
          "output_type": "display_data",
          "data": {
            "text/plain": [
              "<IPython.core.display.HTML object>"
            ],
            "text/html": [
              "\n",
              "              <p>\n",
              "                  Progress: 100% Complete\n",
              "              <p/>\n",
              "              <progress\n",
              "                  value='67'\n",
              "                  max='67',\n",
              "                  style='width: 25%',\n",
              "              >\n",
              "                  67\n",
              "              </progress>\n",
              "\n",
              "    "
            ]
          },
          "metadata": {}
        },
        {
          "output_type": "display_data",
          "data": {
            "text/plain": [
              "<IPython.core.display.HTML object>"
            ],
            "text/html": [
              "\n",
              "              <p>\n",
              "                  Progress: 100% Complete\n",
              "              <p/>\n",
              "              <progress\n",
              "                  value='67'\n",
              "                  max='67',\n",
              "                  style='width: 25%',\n",
              "              >\n",
              "                  67\n",
              "              </progress>\n",
              "\n",
              "    "
            ]
          },
          "metadata": {}
        },
        {
          "output_type": "display_data",
          "data": {
            "text/plain": [
              "<IPython.core.display.HTML object>"
            ],
            "text/html": [
              "\n",
              "              <p>\n",
              "                  Progress: 100% Complete\n",
              "              <p/>\n",
              "              <progress\n",
              "                  value='67'\n",
              "                  max='67',\n",
              "                  style='width: 25%',\n",
              "              >\n",
              "                  67\n",
              "              </progress>\n",
              "\n",
              "    "
            ]
          },
          "metadata": {}
        },
        {
          "output_type": "display_data",
          "data": {
            "text/plain": [
              "<IPython.core.display.HTML object>"
            ],
            "text/html": [
              "\n",
              "              <p>\n",
              "                  Progress: 100% Complete\n",
              "              <p/>\n",
              "              <progress\n",
              "                  value='67'\n",
              "                  max='67',\n",
              "                  style='width: 25%',\n",
              "              >\n",
              "                  67\n",
              "              </progress>\n",
              "\n",
              "    "
            ]
          },
          "metadata": {}
        },
        {
          "output_type": "display_data",
          "data": {
            "text/plain": [
              "<IPython.core.display.HTML object>"
            ],
            "text/html": [
              "\n",
              "              <p>\n",
              "                  Progress: 100% Complete\n",
              "              <p/>\n",
              "              <progress\n",
              "                  value='67'\n",
              "                  max='67',\n",
              "                  style='width: 25%',\n",
              "              >\n",
              "                  67\n",
              "              </progress>\n",
              "\n",
              "    "
            ]
          },
          "metadata": {}
        },
        {
          "output_type": "display_data",
          "data": {
            "text/plain": [
              "<IPython.core.display.HTML object>"
            ],
            "text/html": [
              "\n",
              "              <p>\n",
              "                  Progress: 100% Complete\n",
              "              <p/>\n",
              "              <progress\n",
              "                  value='67'\n",
              "                  max='67',\n",
              "                  style='width: 25%',\n",
              "              >\n",
              "                  67\n",
              "              </progress>\n",
              "\n",
              "    "
            ]
          },
          "metadata": {}
        },
        {
          "output_type": "display_data",
          "data": {
            "text/plain": [
              "<IPython.core.display.HTML object>"
            ],
            "text/html": [
              "\n",
              "              <p>\n",
              "                  Progress: 100% Complete\n",
              "              <p/>\n",
              "              <progress\n",
              "                  value='67'\n",
              "                  max='67',\n",
              "                  style='width: 25%',\n",
              "              >\n",
              "                  67\n",
              "              </progress>\n",
              "\n",
              "    "
            ]
          },
          "metadata": {}
        },
        {
          "output_type": "display_data",
          "data": {
            "text/plain": [
              "<IPython.core.display.HTML object>"
            ],
            "text/html": [
              "\n",
              "              <p>\n",
              "                  Progress: 100% Complete\n",
              "              <p/>\n",
              "              <progress\n",
              "                  value='67'\n",
              "                  max='67',\n",
              "                  style='width: 25%',\n",
              "              >\n",
              "                  67\n",
              "              </progress>\n",
              "\n",
              "    "
            ]
          },
          "metadata": {}
        },
        {
          "output_type": "display_data",
          "data": {
            "text/plain": [
              "<IPython.core.display.HTML object>"
            ],
            "text/html": [
              "\n",
              "              <p>\n",
              "                  Progress: 100% Complete\n",
              "              <p/>\n",
              "              <progress\n",
              "                  value='67'\n",
              "                  max='67',\n",
              "                  style='width: 25%',\n",
              "              >\n",
              "                  67\n",
              "              </progress>\n",
              "\n",
              "    "
            ]
          },
          "metadata": {}
        },
        {
          "output_type": "display_data",
          "data": {
            "text/plain": [
              "<IPython.core.display.HTML object>"
            ],
            "text/html": [
              "\n",
              "              <p>\n",
              "                  Progress: 100% Complete\n",
              "              <p/>\n",
              "              <progress\n",
              "                  value='67'\n",
              "                  max='67',\n",
              "                  style='width: 25%',\n",
              "              >\n",
              "                  67\n",
              "              </progress>\n",
              "\n",
              "    "
            ]
          },
          "metadata": {}
        },
        {
          "output_type": "display_data",
          "data": {
            "text/plain": [
              "<IPython.core.display.HTML object>"
            ],
            "text/html": [
              "\n",
              "              <p>\n",
              "                  Progress: 100% Complete\n",
              "              <p/>\n",
              "              <progress\n",
              "                  value='67'\n",
              "                  max='67',\n",
              "                  style='width: 25%',\n",
              "              >\n",
              "                  67\n",
              "              </progress>\n",
              "\n",
              "    "
            ]
          },
          "metadata": {}
        }
      ]
    },
    {
      "cell_type": "code",
      "source": [
        "# merging the list of dataframes into a single dataframe\n",
        "col = X_train_tsfel_dfs[0].columns\n",
        "X_train_tsfel_df = pd.DataFrame(X_train_tsfel, columns=col)\n",
        "X_test_tsfel_df = pd.DataFrame(X_test_tsfel, columns=col)\n",
        "\n",
        "\n",
        "# If a feature has only one unique value, it is constant across all training samples\n",
        "# meaning it provides no information, so we drop it\n",
        "for col in X_train_tsfel_df.columns:\n",
        "    if len(X_train_tsfel_df[col].unique()) == 1:\n",
        "        X_train_tsfel_df.drop(col, axis=1, inplace=True)\n",
        "\n",
        "\n",
        "# some columns are highly correlated, we can remove them because they don't provide any additional information\n",
        "# removing highly correlated features (columns) from the training data which have a correlation greater than 0.9\n",
        "corr = X_train_tsfel_df.corr()\n",
        "mask = np.triu(np.ones_like(corr, dtype=bool))\n",
        "tri_df = corr.mask(mask)\n",
        "to_drop = [c for c in tri_df.columns if any(\n",
        "    tri_df[c] > 0.9)]  # threshold = 0.9\n",
        "X_train_tsfel_df.drop(columns=to_drop, inplace=True)\n",
        "\n",
        "# remove the same columns from the test data\n",
        "X_test_tsfel_df = X_test_tsfel_df[X_train_tsfel_df.columns]"
      ],
      "metadata": {
        "id": "j6UirpMuR-9X"
      },
      "execution_count": null,
      "outputs": []
    },
    {
      "cell_type": "markdown",
      "source": [
        "Training the Decision Tree:"
      ],
      "metadata": {
        "id": "VSxds9tsfHPQ"
      }
    },
    {
      "cell_type": "code",
      "source": [
        "X_train_tsfel_values = X_train_tsfel_df.values\n",
        "X_test_tsfel_values = X_test_tsfel_df.values\n",
        "\n",
        "dtc_tsfel = DecisionTreeClassifier()\n",
        "dtc_tsfel.fit(X_train_tsfel_values, y_train)\n",
        "y_pred_tsfel = dtc_tsfel.predict(X_test_tsfel_values)\n",
        "\n",
        "acc_tsfel = accuracy_score(y_test, y_pred_tsfel)\n",
        "prec_tsfel = precision_score(y_test, y_pred_tsfel, average='macro')\n",
        "rec_tsfel = recall_score(y_test, y_pred_tsfel, average='macro')\n",
        "conf_mx_tsfel = confusion_matrix(y_test, y_pred_tsfel)\n",
        "\n",
        "print(\"Confusion Matrix:\")\n",
        "print(conf_mx_tsfel)\n",
        "print()\n",
        "print(\"TSFEL Accuracy:\", acc_tsfel)\n",
        "print(\"TSFEL Precision:\", prec_tsfel)\n",
        "print(\"TSFEL Recall:\", rec_tsfel)"
      ],
      "metadata": {
        "id": "EJ99Jh2sSM-W",
        "colab": {
          "base_uri": "https://localhost:8080/"
        },
        "outputId": "bfae4095-c823-48bd-8ef2-17a267148c1c"
      },
      "execution_count": null,
      "outputs": [
        {
          "output_type": "stream",
          "name": "stdout",
          "text": [
            "Confusion Matrix:\n",
            "[[7 2 0 0 0 0]\n",
            " [1 7 1 0 0 0]\n",
            " [0 2 7 0 0 0]\n",
            " [0 0 0 6 2 1]\n",
            " [0 0 0 2 7 0]\n",
            " [0 0 0 3 0 6]]\n",
            "\n",
            "TSFEL Accuracy: 0.7407407407407407\n",
            "TSFEL Precision: 0.761123136123136\n",
            "TSFEL Recall: 0.7407407407407408\n"
          ]
        }
      ]
    },
    {
      "cell_type": "markdown",
      "source": [
        "## Question 1.3\n",
        "\n",
        "Using processed dataset provided by the author which contains 561 features"
      ],
      "metadata": {
        "id": "V5LQsicCfcYY"
      }
    },
    {
      "cell_type": "code",
      "source": [
        "raw_data_dir = \"UCI HAR Dataset\"\n",
        "\n",
        "X_train_561 = pd.read_csv(os.path.join(raw_data_dir, \"train\", \"X_train.txt\"), sep=r'\\s+', header=None)\n",
        "X_test_561 = pd.read_csv(os.path.join(raw_data_dir, \"test\", \"X_test.txt\"), sep=r'\\s+', header=None)\n",
        "\n",
        "y_train_561 = pd.read_csv(os.path.join(raw_data_dir, \"train\", \"y_train.txt\"), header=None)\n",
        "y_test_561 = pd.read_csv(os.path.join(raw_data_dir, \"test\", \"y_test.txt\"), header=None)\n",
        "\n",
        "# now train the decision tree classifier\n",
        "dtc_561 = DecisionTreeClassifier()\n",
        "dtc_561.fit(X_train_561, y_train_561)\n",
        "y_pred_561 = dtc_561.predict(X_test_561)\n",
        "\n",
        "acc_561 = accuracy_score(y_test_561, y_pred_561)\n",
        "# since, this model is using the provided dataset which is imbalanced, we will use weighted average for precision and recall\n",
        "prec_561 = precision_score(y_test_561, y_pred_561, average='weighted')\n",
        "rec_561 = recall_score(y_test_561, y_pred_561, average='weighted')\n",
        "\n",
        "conf_mx_561 = confusion_matrix(y_test_561, y_pred_561)\n",
        "\n",
        "\n",
        "print(\"Confusion Matrix:\")\n",
        "print(conf_mx_561)\n",
        "print()\n",
        "print(\"561 Dataset Accuracy:\", acc_561)\n",
        "print(\"561 Dataset Precision:\", prec_561)\n",
        "print(\"561 Dataset Recall:\", rec_561)"
      ],
      "metadata": {
        "colab": {
          "base_uri": "https://localhost:8080/"
        },
        "id": "ffxZHVtuSW4Z",
        "outputId": "a2e26209-4478-4653-df8d-58e07838e74b"
      },
      "execution_count": null,
      "outputs": [
        {
          "output_type": "stream",
          "name": "stdout",
          "text": [
            "Confusion Matrix:\n",
            "[[435  38  23   0   0   0]\n",
            " [ 73 369  29   0   0   0]\n",
            " [ 15  52 353   0   0   0]\n",
            " [  0   0   0 376 115   0]\n",
            " [  0   0   0  79 453   0]\n",
            " [  0   0   0   0   0 537]]\n",
            "\n",
            "561 Dataset Accuracy: 0.8561248727519511\n",
            "561 Dataset Precision: 0.8565667922884035\n",
            "561 Dataset Recall: 0.8561248727519511\n"
          ]
        }
      ]
    },
    {
      "cell_type": "markdown",
      "source": [
        "**Observation**\n",
        "\n",
        "The best performance was achieved using the author's provided dataset (561 features), followed by the TSFEL-based model, while the raw accelerometer data performed the worst.\n",
        "\n",
        "Reasoning:\n",
        "\n",
        "* TSFEL improves over raw data by extracting informative features that enhance model learning.\n",
        "\n",
        "* The provided dataset performs best because it includes more detailed features generated from overlapping sliding windows, offering richer input per sample."
      ],
      "metadata": {
        "id": "tbTteOf9jtFw"
      }
    },
    {
      "cell_type": "markdown",
      "source": [
        "## Question 2\n",
        "\n",
        "Training the Decision Tree with varying depths (2-8) using all above 3 methods and then plotting the accuracy of the model on test data vs the depth of the tree."
      ],
      "metadata": {
        "id": "Qs7raIHPoGOM"
      }
    },
    {
      "cell_type": "code",
      "source": [
        "# Accuracy score lists for three data variants\n",
        "accuracy_raw = []\n",
        "accuracy_tsfel = []\n",
        "accuracy_engineered = []\n",
        "\n",
        "# Tree depth values to evaluate\n",
        "tree_depths = range(2, 9)\n",
        "\n",
        "# Raw accelerometer data\n",
        "for d in tree_depths:\n",
        "    model_raw = DecisionTreeClassifier(max_depth=d)\n",
        "    model_raw.fit(X_train_reshaped, y_train)\n",
        "    predictions_raw = model_raw.predict(X_test_reshaped)\n",
        "    accuracy_raw.append(accuracy_score(y_test, predictions_raw))\n",
        "\n",
        "# TSFEL extracted features\n",
        "for d in tree_depths:\n",
        "    model_tsfel = DecisionTreeClassifier(max_depth=d)\n",
        "    model_tsfel.fit(X_train_tsfel_values, y_train)\n",
        "    predictions_tsfel = model_tsfel.predict(X_test_tsfel_values)\n",
        "    accuracy_tsfel.append(accuracy_score(y_test, predictions_tsfel))\n",
        "\n",
        "# Author provided 561 feature dataset\n",
        "for d in tree_depths:\n",
        "    model_prebuilt = DecisionTreeClassifier(max_depth=d)\n",
        "    model_prebuilt.fit(X_train_561, y_train_561)\n",
        "    predictions_prebuilt = model_prebuilt.predict(X_test_561)\n",
        "    accuracy_engineered.append(accuracy_score(y_test_561, predictions_prebuilt))\n",
        "\n",
        "plt.plot(tree_depths, accuracy_raw, label='Raw Accelerometer', color=\"orange\")\n",
        "plt.plot(tree_depths, accuracy_tsfel, label='TSFEL Features', color=\"magenta\")\n",
        "plt.plot(tree_depths, accuracy_engineered, label='Precomputed 561 Features', color=\"cyan\")\n",
        "plt.xlabel('Decision Tree Depth')\n",
        "plt.ylabel('Accuracy on Test Set')\n",
        "plt.title('Model Accuracy vs Tree Depth (across feature sets)')\n",
        "plt.ylim(0, 1.05)\n",
        "plt.legend()\n",
        "plt.grid(True)\n",
        "plt.show()"
      ],
      "metadata": {
        "colab": {
          "base_uri": "https://localhost:8080/",
          "height": 472
        },
        "id": "fqHGAkFbaGLI",
        "outputId": "0e981867-8b6d-4e1a-fe6c-60d3f28d406a"
      },
      "execution_count": null,
      "outputs": [
        {
          "output_type": "display_data",
          "data": {
            "text/plain": [
              "<Figure size 640x480 with 1 Axes>"
            ],
            "image/png": "[encoded data removed]"
          },
          "metadata": {}
        }
      ]
    },
    {
      "cell_type": "markdown",
      "source": [
        "## Question 3\n",
        "\n",
        "Checking if there are any participants/activities where the Model performace is bad."
      ],
      "metadata": {
        "id": "oOFzAX1coYLr"
      }
    },
    {
      "cell_type": "code",
      "source": [
        "# Mapping the activity labels\n",
        "activity_labels = {\n",
        "    1: \"WALKING\",\n",
        "    2: \"WALKING UPSTAIRS\",\n",
        "    3: \"WALKING DOWNSTAIRS\",\n",
        "    4: \"SITTING\",\n",
        "    5: \"STANDING\",\n",
        "    6: \"LAYING\"\n",
        "}\n",
        "\n",
        "# Computing per-class metrics using TSFEL model predictions\n",
        "precision_per_class = precision_score(y_test, predictions_tsfel, average=None, labels=list(activity_labels.keys()))\n",
        "recall_per_class = recall_score(y_test, predictions_tsfel, average=None, labels=list(activity_labels.keys()))\n",
        "f1_per_class = f1_score(y_test, predictions_tsfel, average=None, labels=list(activity_labels.keys()))\n",
        "\n",
        "for idx, (prec, rec, f1) in enumerate(zip(precision_per_class, recall_per_class, f1_per_class)):\n",
        "    activity = activity_labels[idx + 1]\n",
        "    print(f\"Activity: {activity}\")\n",
        "    print(f\"Precision: {prec:.4f}\")\n",
        "    print(f\"Recall:    {rec:.4f}\")\n",
        "    print(f\"F1 Score:  {f1:.4f}\\n\")"
      ],
      "metadata": {
        "colab": {
          "base_uri": "https://localhost:8080/"
        },
        "id": "9VNHGY_3aLWS",
        "outputId": "73b9f4fd-c13f-4b4a-cedf-41be72d67536"
      },
      "execution_count": null,
      "outputs": [
        {
          "output_type": "stream",
          "name": "stdout",
          "text": [
            "Activity: WALKING\n",
            "Precision: 0.9000\n",
            "Recall:    1.0000\n",
            "F1 Score:  0.9474\n",
            "\n",
            "Activity: WALKING UPSTAIRS\n",
            "Precision: 0.7778\n",
            "Recall:    0.7778\n",
            "F1 Score:  0.7778\n",
            "\n",
            "Activity: WALKING DOWNSTAIRS\n",
            "Precision: 0.8750\n",
            "Recall:    0.7778\n",
            "F1 Score:  0.8235\n",
            "\n",
            "Activity: SITTING\n",
            "Precision: 0.4286\n",
            "Recall:    0.6667\n",
            "F1 Score:  0.5217\n",
            "\n",
            "Activity: STANDING\n",
            "Precision: 0.6667\n",
            "Recall:    0.4444\n",
            "F1 Score:  0.5333\n",
            "\n",
            "Activity: LAYING\n",
            "Precision: 0.8571\n",
            "Recall:    0.6667\n",
            "F1 Score:  0.7500\n",
            "\n"
          ]
        }
      ]
    },
    {
      "cell_type": "markdown",
      "source": [
        "**Observation:**\n",
        "\n",
        "The model performs very well on dynamic activities like Walking and Walking Downstairs, with high precision and recall.\n",
        "\n",
        "However, it struggles on static activities like Sitting and Standing, indicating confusion between these similar postures with an F1 < 0.55.\n",
        "\n",
        "**Why we think so this is happening?**\n",
        "\n",
        "The accelerometer data during SITTING can look very similar to STANDING or even LAYING, especially if the phone is in a pocket or lying still, thus leading to more confusion!"
      ],
      "metadata": {
        "id": "f9Es8N7ppqNi"
      }
    },
    {
      "cell_type": "markdown",
      "source": [
        "# Task 3\n",
        "\n",
        "## Question 1\n",
        "\n",
        "Pre-Processing on our manual Data:"
      ],
      "metadata": {
        "id": "yAFWS5PtTOf7"
      }
    },
    {
      "cell_type": "code",
      "source": [
        "offset = 100\n",
        "\n",
        "custom_data_dir = os.path.join(\"Manual Data Collection\")\n",
        "\n",
        "X_custom_data=[]\n",
        "y_custom_data=[]\n",
        "\n",
        "for folder in folders:\n",
        "    files = os.listdir(os.path.join(custom_data_dir,folder))\n",
        "\n",
        "    for file in files:\n",
        "\n",
        "        df = pd.read_csv(os.path.join(custom_data_dir,folder,file),sep=\",\",header=0)\n",
        "        df.drop([\"time\", \"TgF\"], axis=1, inplace=True)\n",
        "\n",
        "        df = df[offset:offset+500]\n",
        "\n",
        "        for col in df.columns:\n",
        "            df[col] = (2 * (df[col] - df[col].min()) / (df[col].max() - df[col].min())) - 1\n",
        "\n",
        "        X_custom_data.append(df.values)\n",
        "        y_custom_data.append(classes[folder])\n",
        "\n",
        "seed = 4\n",
        "X_train_custom_data, X_test_custom_data, y_train_custom_data, y_test_custom_data = train_test_split(X_custom_data,y_custom_data,test_size=0.3,random_state=seed,stratify=y_custom_data)\n",
        "\n",
        "X_train_custom_data = np.array(X_train_custom_data)\n",
        "X_test_custom_data = np.array(X_test_custom_data)\n",
        "\n",
        "X_train_custom_data_reshaped = np.sum(X_train_custom_data**2, axis=2)\n",
        "X_test_custom_data_reshaped = np.sum(X_test_custom_data**2, axis=2)"
      ],
      "metadata": {
        "id": "dFQEW6yrTAl9"
      },
      "execution_count": 21,
      "outputs": []
    },
    {
      "cell_type": "markdown",
      "source": [
        "Previously Trained Decision Tree on Our Data:"
      ],
      "metadata": {
        "id": "83s6XWDnaOkk"
      }
    },
    {
      "cell_type": "code",
      "source": [
        "y_pred_dataset_custom_data = dtc_dataset.predict(X_test_custom_data_reshaped)\n",
        "acc_custom_data = accuracy_score(y_test_custom_data, y_pred_dataset_custom_data)\n",
        "\n",
        "# Since, this model is using a dataset which is balanced, we will use macro average for precision and recall\n",
        "prec_custom_data = precision_score(y_test_custom_data, y_pred_dataset_custom_data, average='macro', zero_division=0)\n",
        "rec_custom_data = recall_score(y_test_custom_data, y_pred_dataset_custom_data, average='macro', zero_division=0)\n",
        "\n",
        "conf_mx_custom_data = confusion_matrix(y_test_custom_data, y_pred_dataset_custom_data)\n",
        "\n",
        "print(\"Accuracy:\", acc_custom_data)\n",
        "print(\"Precision:\", prec_custom_data)\n",
        "print(\"Recall:\", rec_custom_data)\n",
        "print()\n",
        "print(\"Confusion Matrix:\")\n",
        "print(conf_mx_custom_data)"
      ],
      "metadata": {
        "colab": {
          "base_uri": "https://localhost:8080/"
        },
        "id": "CJuG9W22WygL",
        "outputId": "02117d77-17f2-4f23-b40b-f906fef83813"
      },
      "execution_count": 25,
      "outputs": [
        {
          "output_type": "stream",
          "name": "stdout",
          "text": [
            "Accuracy: 0.3333333333333333\n",
            "Precision: 0.19999999999999998\n",
            "Recall: 0.3333333333333333\n",
            "\n",
            "Confusion Matrix:\n",
            "[[0 0 1 0 0 0]\n",
            " [0 0 1 0 0 0]\n",
            " [0 0 1 0 0 0]\n",
            " [0 0 0 1 0 0]\n",
            " [0 0 1 0 0 0]\n",
            " [0 0 1 0 0 0]]\n"
          ]
        }
      ]
    },
    {
      "cell_type": "markdown",
      "source": [
        "We used the Decision Tree model trained on raw accelerometer data (dtc_dataset) for testing on our manually collected sensor data.\n",
        "\n",
        "**Why we chose this version:**\n",
        "\n",
        "Our manual data collection was performed using similar sensor types (accelerometers), measuring raw signals along the x, y, z axes, ensuring that our test data is similar to the training data of the selected Decision Tree.\n",
        "\n",
        "We ensured that:\n",
        "\n",
        "The data was segmented into fixed time windows (e.g., 500 rows)\n",
        "\n",
        "The input format was identical to what the raw model was trained on (shape: 500 * 3)"
      ],
      "metadata": {
        "id": "oElAY9nGaUZu"
      }
    },
    {
      "cell_type": "markdown",
      "source": [
        "## Task 3 Question 2\n",
        "\n",
        "Using the Data we collected to predict the activities that we did:\n",
        "\n",
        "Approach:\n",
        "Train a new Decision Tree on the Custom Training Data and test it on the Custom Testing Data. The data was splitted and preprocessed during the above preprocessing already."
      ],
      "metadata": {
        "id": "VGqBg-0Obc0M"
      }
    },
    {
      "cell_type": "code",
      "source": [
        "# Train the model\n",
        "dtc_custom = DecisionTreeClassifier()\n",
        "dtc_custom.fit(X_train_custom_data_reshaped, y_train_custom_data)\n",
        "\n",
        "# Predict on test set\n",
        "y_pred_custom = dtc_custom.predict(X_test_custom_data_reshaped)\n",
        "\n",
        "# Evaluate\n",
        "accuracy = accuracy_score(y_test_custom_data, y_pred_custom)\n",
        "precision = precision_score(y_test_custom_data, y_pred_custom, average='macro', zero_division=0)\n",
        "recall = recall_score(y_test_custom_data, y_pred_custom, average='macro', zero_division=0)\n",
        "conf_matrix = confusion_matrix(y_test_custom_data, y_pred_custom)\n",
        "\n",
        "# Display results\n",
        "print(\"Accuracy:\", accuracy)\n",
        "print(\"Precision:\", precision)\n",
        "print(\"Recall:\", recall)\n",
        "print()\n",
        "print(\"\\nConfusion Matrix:\\n\", conf_matrix)\n"
      ],
      "metadata": {
        "colab": {
          "base_uri": "https://localhost:8080/"
        },
        "id": "xE-_iioeY3My",
        "outputId": "f4903465-2ea1-44a3-f3cc-a212b79b740c"
      },
      "execution_count": 29,
      "outputs": [
        {
          "output_type": "stream",
          "name": "stdout",
          "text": [
            "Accuracy: 0.5\n",
            "Precision: 0.3055555555555555\n",
            "Recall: 0.5\n",
            "\n",
            "\n",
            "Confusion Matrix:\n",
            " [[1 0 0 0 0 0]\n",
            " [1 0 0 0 0 0]\n",
            " [0 0 0 0 1 0]\n",
            " [1 0 0 0 0 0]\n",
            " [0 0 0 0 1 0]\n",
            " [0 0 0 0 0 1]]\n"
          ]
        }
      ]
    },
    {
      "cell_type": "markdown",
      "source": [
        "We applied basic preprocessing by:\n",
        "\n",
        "* Dropping irrelevant columns (time, TgF)\n",
        "\n",
        "* Normalizing each axis (acc_x, acc_y, acc_z) to the range [-1, 1]\n",
        "\n",
        "This gave us a simple, noise-resistant feature representation.\n",
        "\n",
        "Next, as we can see the model shows moderate accuracy, but low precision indicates that it mislabels several classes.\n",
        "Using only raw total acceleration may not capture enough distinctive features and thus more advanced featurization (like TSFEL) could improve class separation.\n"
      ],
      "metadata": {
        "id": "rucuo5mjd80S"
      }
    }
  ]
}